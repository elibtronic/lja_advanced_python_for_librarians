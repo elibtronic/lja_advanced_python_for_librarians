{
  "nbformat": 4,
  "nbformat_minor": 0,
  "metadata": {
    "colab": {
      "provenance": [],
      "authorship_tag": "ABX9TyNzbjKEFb0Z0kL5OFE52Jjj"
    },
    "kernelspec": {
      "name": "python3",
      "display_name": "Python 3"
    },
    "language_info": {
      "name": "python"
    }
  },
  "cells": [
    {
      "cell_type": "markdown",
      "source": [
        "# Week 1 Homework\n",
        "\n",
        "(Be sure to save this to Drive before starting)\n",
        "\n",
        "For this week we are going to practice requesting information from an API and manipulating it as JSON and as a Dataframe.\n",
        "\n",
        "We are going to keep working with Collection Builder. Head over to the [Collection Builder Example Projects](https://collectionbuilder.github.io/cb-examples/browse.html) listing and find a site that interests you. Spend some time browsing the website to get acquainted with its contents before proceeding with the questions."
      ],
      "metadata": {
        "id": "3rtVAa608NJ0"
      }
    },
    {
      "cell_type": "code",
      "source": [
        "#The Libraries we will need\n",
        "import requests\n",
        "import json\n",
        "import pandas as pd\n",
        "from random import randrange"
      ],
      "metadata": {
        "id": "OTz9wtJ87aNf"
      },
      "execution_count": null,
      "outputs": []
    },
    {
      "cell_type": "code",
      "source": [
        "# @markdown **H1** Find the URL of for the  _metadata.json_ of your selected site and paste it in here.\n",
        "json_cb_url = \"\" # @param {\"type\":\"string\",\"placeholder\":\"\"}\n",
        "\n",
        "response_cb = requests.get(json_cb_url)\n",
        "#all of the data from the sites\n",
        "total_cb_data = response_cb.json()\n",
        "#just the 'objects' indexed in the site\n",
        "objects_cb_data = total_cb_data['objects']\n",
        "print(\"Data fetched and JSON constructed!\")\n"
      ],
      "metadata": {
        "cellView": "form",
        "id": "hgGQAFb0L6ii"
      },
      "execution_count": null,
      "outputs": []
    },
    {
      "cell_type": "markdown",
      "source": [
        "**H2** Run the 'show random cell' a few times to get a sense of what kind of data is in your chosen site."
      ],
      "metadata": {
        "id": "CpVbr82LP5Pe"
      }
    },
    {
      "cell_type": "code",
      "source": [
        "#Run this a few times to see random entries in the JSON data that you retrieved.\n",
        "random_entry = randrange(len(objects_cb_data))\n",
        "print(json.dumps(objects_cb_data[random_entry],indent=2))"
      ],
      "metadata": {
        "id": "yO5y4mdmNfui"
      },
      "execution_count": null,
      "outputs": []
    },
    {
      "cell_type": "markdown",
      "source": [
        "## Different Fields!\n",
        "\n",
        "You can create any number of datafields and correpsonding values for those fields with a Collection Builder site. So the results from the output from the cell above will probably have wildly different results from [my site](https://elibtronic.github.io/AIL_Database/data.html) that we worked on in the Workalong notebook.\n",
        "\n",
        "\n",
        "You can see all of these options from grabbing the _facets.json_ URL from a collection builder homepage. Find that URL for your selected site for **H3**"
      ],
      "metadata": {
        "id": "AdtXqDUVOU3r"
      }
    },
    {
      "cell_type": "code",
      "source": [
        "# @markdown **H3** Find the URL of the facets.json for your selected site and paste it in here.\n",
        "json_cb_facets_url = \"\" # @param {\"type\":\"string\",\"placeholder\":\"\"}\n",
        "\n",
        "response_cb = requests.get(json_cb_facets_url)\n",
        "#all of the data from the sites\n",
        "total_facet_data = response_cb.json()\n",
        "#just the 'objects' indexed in the site\n",
        "print(\"Data fetched and JSON constructed!\")\n"
      ],
      "metadata": {
        "cellView": "form",
        "id": "x0cXZ7vfPZxp"
      },
      "execution_count": null,
      "outputs": []
    },
    {
      "cell_type": "markdown",
      "source": [
        "Run the cell below to see what the facets used for this site:"
      ],
      "metadata": {
        "id": "jPaN-1eeRiZ-"
      }
    },
    {
      "cell_type": "code",
      "source": [
        "print(json.dumps(total_facet_data,indent=2))"
      ],
      "metadata": {
        "id": "RlPripX2RH6I"
      },
      "execution_count": null,
      "outputs": []
    },
    {
      "cell_type": "markdown",
      "source": [
        "**H3** Try to read the JSON that is displayed to the screen. What possible facets are there in the the data. Fill them in the markdown list in the cell below. Add as many entries as you need to describe the site"
      ],
      "metadata": {
        "id": "kOSgRUD1RtDP"
      }
    },
    {
      "cell_type": "markdown",
      "source": [
        "Facets in my site are:\n",
        "- facet 1\n",
        "- facet 1\n",
        "- ..."
      ],
      "metadata": {
        "id": "RnOejqqVR6P3"
      }
    },
    {
      "cell_type": "markdown",
      "source": [
        "**H4** Which facet shows up the most for your selected site? Put your answer in the cell below"
      ],
      "metadata": {
        "id": "D6sa-vxOSCNW"
      }
    },
    {
      "cell_type": "markdown",
      "source": [
        "\n",
        "This facet that shows up the most is XXXX it is used YYYY times on my selected site."
      ],
      "metadata": {
        "id": "RqGoIiQmSZMg"
      }
    },
    {
      "cell_type": "markdown",
      "source": [
        "**H5** Turn the site _metadata.json_ data into a dataframe by completing the cell below. Part of it is written for you. You just need to modify line 4."
      ],
      "metadata": {
        "id": "FPVwb96jT86I"
      }
    },
    {
      "cell_type": "code",
      "source": [
        "#H5\n",
        "\n",
        "cb_data = pd.read_json(json_cb_url)\n",
        "= pd.json_normalize(cb_data['objects'])\n",
        "cb_normalized"
      ],
      "metadata": {
        "id": "bgC_J2MLUGZ5"
      },
      "execution_count": null,
      "outputs": []
    },
    {
      "cell_type": "code",
      "source": [
        "#Run this a few times to see random entries in your dataframe\n",
        "cb_normalized.sample(10)"
      ],
      "metadata": {
        "id": "o6dSC0z5VRrM"
      },
      "execution_count": null,
      "outputs": []
    },
    {
      "cell_type": "markdown",
      "source": [
        "**H6** This is for bonus!\n",
        "Try to write a pandas statement that will display your answer from **H4**. There are plenty of ways to do this, so feel free to use your imagination. What I have started for you here might not work, so feel free to change it as needed."
      ],
      "metadata": {
        "id": "6NH2tTqKU8UQ"
      }
    },
    {
      "cell_type": "code",
      "source": [
        "cb_normalized[cb_normalized[\"\"] == \"\"].count()"
      ],
      "metadata": {
        "id": "ncxc01KYVQb-"
      },
      "execution_count": null,
      "outputs": []
    },
    {
      "cell_type": "markdown",
      "source": [
        "\n",
        "## All Done!\n",
        "\n",
        "Congrats you are finished with this week's work. First save as PDF so that you can upload to the Course site then click the `Share` button above and enter `libraryjuicepresspython@gmail.com` so I can get a shared copy of your work."
      ],
      "metadata": {
        "id": "bYP0tH338SWY"
      }
    }
  ]
}