{
  "nbformat": 4,
  "nbformat_minor": 0,
  "metadata": {
    "colab": {
      "provenance": [],
      "authorship_tag": "ABX9TyO30AL00N38Se7mEcyh4QQg",
      "include_colab_link": true
    },
    "kernelspec": {
      "name": "python3",
      "display_name": "Python 3"
    },
    "language_info": {
      "name": "python"
    }
  },
  "cells": [
    {
      "cell_type": "markdown",
      "metadata": {
        "id": "view-in-github",
        "colab_type": "text"
      },
      "source": [
        "<a href=\"https://colab.research.google.com/github/elibtronic/lja_advanced_python_for_librarians/blob/main/Week_1_Homework.ipynb\" target=\"_parent\"><img src=\"https://colab.research.google.com/assets/colab-badge.svg\" alt=\"Open In Colab\"/></a>"
      ]
    },
    {
      "cell_type": "markdown",
      "source": [
        "\n",
        "# Week 1 homework\n",
        "\n",
        "We are going to work with data retrieved from a CollectionBuilder site. Find a CollectionBuilder site and identify the JSON data and JSON subjects url in the form that follows"
      ],
      "metadata": {
        "id": "tFA0bAG7m7IK"
      }
    },
    {
      "cell_type": "code",
      "source": [
        "# @title Collection Builder URLS {\"run\":\"auto\",\"display-mode\":\"form\"}\n",
        "\n",
        "cb_data_url = \"url here\" # @param {\"type\":\"string\"}\n",
        "cb_subjects_url = \"url here\" # @param {\"type\":\"string\"}\n",
        "\n"
      ],
      "metadata": {
        "id": "FagKJXL1na_e"
      },
      "execution_count": null,
      "outputs": []
    }
  ]
}