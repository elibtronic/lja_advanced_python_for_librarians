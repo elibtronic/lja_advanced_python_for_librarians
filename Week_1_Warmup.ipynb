{
  "nbformat": 4,
  "nbformat_minor": 0,
  "metadata": {
    "colab": {
      "provenance": [],
      "authorship_tag": "ABX9TyP6qim8QpJCn2wXagsAycGv",
      "include_colab_link": true
    },
    "kernelspec": {
      "name": "python3",
      "display_name": "Python 3"
    },
    "language_info": {
      "name": "python"
    }
  },
  "cells": [
    {
      "cell_type": "markdown",
      "metadata": {
        "id": "view-in-github",
        "colab_type": "text"
      },
      "source": [
        "<a href=\"https://colab.research.google.com/github/elibtronic/lja_advanced_python_for_librarians/blob/main/Week_1_Warmup.ipynb\" target=\"_parent\"><img src=\"https://colab.research.google.com/assets/colab-badge.svg\" alt=\"Open In Colab\"/></a>"
      ]
    },
    {
      "cell_type": "markdown",
      "source": [
        "\n",
        "#Week 1 Warm up activity\n",
        "\n",
        "This notebook is an intro activity that get us back into a Colab groove and will also show you some interesting features we haven't looked at yet"
      ],
      "metadata": {
        "id": "T3Z4mgdUpODo"
      }
    },
    {
      "cell_type": "markdown",
      "source": [
        "##Forms!\n",
        "\n",
        "Google Colab let you create forms so that re-running analysis is easier when you want to share what you've come up with others"
      ],
      "metadata": {
        "id": "zSb-6dwYpi0d"
      }
    },
    {
      "cell_type": "code",
      "source": [
        "# @title My wonderful form\n",
        "\n",
        "# @markdown Basic form\n",
        "\n",
        "drop_down_example = \"Yes\" # @param [\"Yes\",\"No\",\"Maybe\"] {\"allow-input\":true}\n",
        "slider_value = 50 # @param {\"type\":\"slider\",\"min\":0,\"max\":100,\"step\":1}\n",
        "your_birthdate = \"2024-12-04\" # @param {\"type\":\"date\"}\n",
        "\n",
        "\n",
        "\n"
      ],
      "metadata": {
        "id": "yjCEXT1spy8E"
      },
      "execution_count": null,
      "outputs": []
    },
    {
      "cell_type": "code",
      "source": [
        "# @title My Second Wonderful form {\"display-mode\":\"form\"}\n",
        "\n",
        "# @markdown This form hides code by default\n",
        "\n",
        "drop_down_example = \"Yes\" # @param [\"Yes\",\"No\",\"Maybe\"] {\"allow-input\":true}\n",
        "slider_value = 50 # @param {\"type\":\"slider\",\"min\":0,\"max\":100,\"step\":1}\n",
        "your_birthdate = \"2024-12-04\" # @param {\"type\":\"date\"}\n",
        "# @markdown Basic form\n"
      ],
      "metadata": {
        "id": "pYTBIVzGqXLt"
      },
      "execution_count": null,
      "outputs": []
    },
    {
      "cell_type": "code",
      "source": [
        "# @title My wonderful third form {\"run\":\"auto\",\"vertical-output\":true}\n",
        "\n",
        "# @markdown This code will run when values change in the controls\n",
        "\n",
        "drop_down_example = \"Yes\" # @param [\"Yes\",\"No\",\"Maybe\"] {\"allow-input\":true}\n",
        "slider_value = 12 # @param {\"type\":\"slider\",\"min\":0,\"max\":100,\"step\":1}\n",
        "your_birthdate = \"2024-12-04\" # @param {\"type\":\"date\"}\n",
        "\n",
        "\n",
        "print(\"Form values...\")\n",
        "print(drop_down_example)\n",
        "print(slider_value)\n",
        "print(your_birthdate)"
      ],
      "metadata": {
        "id": "4XEvv8EFqqf0"
      },
      "execution_count": null,
      "outputs": []
    },
    {
      "cell_type": "code",
      "source": [
        "# @title My wonderful forth form {\"run\":\"auto\",\"vertical-output\":true,\"display-mode\":\"form\"}\n",
        "\n",
        "# @markdown This code will run when values change in the controls, and the code is hidden\n",
        "\n",
        "drop_down_example = \"No\" # @param [\"Yes\",\"No\",\"Maybe\"] {\"allow-input\":true}\n",
        "slider_value = 12 # @param {\"type\":\"slider\",\"min\":0,\"max\":100,\"step\":1}\n",
        "your_birthdate = \"2024-12-04\" # @param {\"type\":\"date\"}\n",
        "\n",
        "\n",
        "print(\"Form values...\")\n",
        "print(drop_down_example)\n",
        "print(slider_value)\n",
        "print(your_birthdate)"
      ],
      "metadata": {
        "id": "N0nW2HTwq3cA"
      },
      "execution_count": null,
      "outputs": []
    },
    {
      "cell_type": "markdown",
      "source": [
        "\n",
        "# Connecting to Google Drive!\n",
        "\n",
        "You can pull in your Google Drive"
      ],
      "metadata": {
        "id": "IxgzFGRKsHeV"
      }
    },
    {
      "cell_type": "code",
      "source": [
        "from google.colab import drive\n",
        "drive.mount('/gdrive')"
      ],
      "metadata": {
        "id": "koH2QAxysZbe"
      },
      "execution_count": null,
      "outputs": []
    },
    {
      "cell_type": "code",
      "source": [
        "# list files..."
      ],
      "metadata": {
        "id": "ph0erzwJsgD-"
      },
      "execution_count": null,
      "outputs": []
    }
  ]
}