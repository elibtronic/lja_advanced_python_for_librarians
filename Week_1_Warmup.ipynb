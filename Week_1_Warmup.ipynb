{
  "nbformat": 4,
  "nbformat_minor": 0,
  "metadata": {
    "colab": {
      "provenance": [],
      "authorship_tag": "ABX9TyNJkfKFyUYAuvJesRHQPlVD"
    },
    "kernelspec": {
      "name": "python3",
      "display_name": "Python 3"
    },
    "language_info": {
      "name": "python"
    }
  },
  "cells": [
    {
      "cell_type": "markdown",
      "source": [
        "\n",
        "#Week 1 Warm up activity\n",
        "\n",
        "This notebook is an intro activity that get us back into a Colab groove and will also show you some interesting features we haven't looked at yet. All you really need to do is read through what is here and run the code cells. You won't need to write much code in this warm up.\n"
      ],
      "metadata": {
        "id": "T3Z4mgdUpODo"
      }
    },
    {
      "cell_type": "markdown",
      "source": [
        "##Forms!\n",
        "\n",
        "Google Colab let you create forms so that re-running analysis is easier when you want to share what you've come up with others. The next few cells shows some example forms and how you can add values to variables using them.\n",
        "\n",
        "\n",
        "Our focus for this class will be creating notebooks that we will share with others. Using forms allows people without programming knowledge to comfortably interact with our creations."
      ],
      "metadata": {
        "id": "zSb-6dwYpi0d"
      }
    },
    {
      "cell_type": "markdown",
      "source": [
        "\n",
        "## Form 1\n",
        "\n",
        "This shows us the basics.\n",
        "\n",
        "If you are starting from scratch you just right click into a code cell there will be an option for **Form > Add a Form Field**. Once this form is run it will create three variables based on the values in the form."
      ],
      "metadata": {
        "id": "BG-WMHNVxIix"
      }
    },
    {
      "cell_type": "code",
      "source": [
        "# @title Form 1\n",
        "\n",
        "# @markdown Basic form\n",
        "\n",
        "drop_down_example = \"Yes\" # @param [\"Yes\",\"No\",\"Maybe\"] {\"allow-input\":true}\n",
        "slider_value = 50 # @param {\"type\":\"slider\",\"min\":0,\"max\":100,\"step\":1}\n",
        "your_birthdate = \"2024-12-04\" # @param {\"type\":\"date\"}\n",
        "\n",
        "\n",
        "\n"
      ],
      "metadata": {
        "id": "yjCEXT1spy8E"
      },
      "execution_count": null,
      "outputs": []
    },
    {
      "cell_type": "markdown",
      "source": [
        "## Form 2\n",
        "\n",
        "This form is identical to Form 1 except that it has  **Hide Code** enabled. This way it looks a little cleaner. To enable this, right click in a code cell **Forms > Hide Code** to re-enable code view click the blue 'Show Code' text at bottom of the form"
      ],
      "metadata": {
        "id": "DKcYTUZDxsZe"
      }
    },
    {
      "cell_type": "code",
      "source": [
        "# @title My Second Wonderful form {\"display-mode\":\"form\"}\n",
        "\n",
        "# @markdown This form hides code by default\n",
        "\n",
        "drop_down_example = \"Yes\" # @param [\"Yes\",\"No\",\"Maybe\"] {\"allow-input\":true}\n",
        "slider_value = 50 # @param {\"type\":\"slider\",\"min\":0,\"max\":100,\"step\":1}\n",
        "your_birthdate = \"2024-12-04\" # @param {\"type\":\"date\"}\n",
        "# @markdown Basic form\n"
      ],
      "metadata": {
        "id": "pYTBIVzGqXLt"
      },
      "execution_count": null,
      "outputs": []
    },
    {
      "cell_type": "markdown",
      "source": [
        "## Form 3\n",
        "\n",
        "This form is most similar to Form 1. Except that it runs continious, so if you change a form field you'll see the result of that printed to the screen. To enable this option right click in the code cell **Form > Edit Form Attributes > Select Auto-execute cell when fields change and Display output below form**.\n",
        "\n",
        "Of the example forms on this page, this is the only one that produces output"
      ],
      "metadata": {
        "id": "_Gh-1GavyQft"
      }
    },
    {
      "cell_type": "code",
      "source": [
        "# @title Form 3 {\"run\":\"auto\",\"vertical-output\":true}\n",
        "\n",
        "# @markdown This code will run when values change in the controls\n",
        "\n",
        "drop_down_example = \"Yes\" # @param [\"Yes\",\"No\",\"Maybe\"] {\"allow-input\":true}\n",
        "slider_value = 78 # @param {\"type\":\"slider\",\"min\":0,\"max\":100,\"step\":1}\n",
        "your_birthdate = \"2024-12-04\" # @param {\"type\":\"date\"}\n",
        "\n",
        "\n",
        "print(\"Form values...\")\n",
        "print(drop_down_example)\n",
        "print(slider_value)\n",
        "print(your_birthdate)"
      ],
      "metadata": {
        "id": "4XEvv8EFqqf0",
        "outputId": "df3f3c18-89d0-4d65-e160-0f3ab4466b2e",
        "colab": {
          "base_uri": "https://localhost:8080/"
        }
      },
      "execution_count": null,
      "outputs": [
        {
          "output_type": "stream",
          "name": "stdout",
          "text": [
            "Form values...\n",
            "Yes\n",
            "78\n",
            "2024-12-04\n"
          ]
        }
      ]
    },
    {
      "cell_type": "markdown",
      "source": [
        "\n",
        "## Form 4\n",
        "\n",
        "This form has all of the options enabled from forms 1 - 3."
      ],
      "metadata": {
        "id": "g70kuDXFzQYb"
      }
    },
    {
      "cell_type": "code",
      "source": [
        "# @title My wonderful forth form {\"run\":\"auto\",\"vertical-output\":true,\"display-mode\":\"form\"}\n",
        "\n",
        "# @markdown This code will run when values change in the controls, and the code is hidden\n",
        "\n",
        "drop_down_example = \"Yes\" # @param [\"Yes\",\"No\",\"Maybe\"] {\"allow-input\":true}\n",
        "slider_value = 35 # @param {\"type\":\"slider\",\"min\":0,\"max\":100,\"step\":1}\n",
        "your_birthdate = \"2024-12-04\" # @param {\"type\":\"date\"}\n",
        "\n",
        "\n",
        "print(\"Form values...\")\n",
        "print(drop_down_example)\n",
        "print(slider_value)\n",
        "print(your_birthdate)"
      ],
      "metadata": {
        "id": "N0nW2HTwq3cA",
        "outputId": "4753db14-429a-441f-cebb-6f8263f08d53",
        "colab": {
          "base_uri": "https://localhost:8080/"
        }
      },
      "execution_count": null,
      "outputs": [
        {
          "output_type": "stream",
          "name": "stdout",
          "text": [
            "Form values...\n",
            "Yes\n",
            "35\n",
            "2024-12-04\n"
          ]
        }
      ]
    },
    {
      "cell_type": "markdown",
      "source": [
        "\n",
        "Now onto the workalong notebook...\n"
      ],
      "metadata": {
        "id": "Req-7BtswhP4"
      }
    }
  ]
}