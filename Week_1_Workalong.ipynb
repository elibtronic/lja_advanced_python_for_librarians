{
  "nbformat": 4,
  "nbformat_minor": 0,
  "metadata": {
    "colab": {
      "provenance": [],
      "authorship_tag": "ABX9TyPSZx8jSsJpahSWFndnEHNX",
      "include_colab_link": true
    },
    "kernelspec": {
      "name": "python3",
      "display_name": "Python 3"
    },
    "language_info": {
      "name": "python"
    }
  },
  "cells": [
    {
      "cell_type": "markdown",
      "metadata": {
        "id": "view-in-github",
        "colab_type": "text"
      },
      "source": [
        "<a href=\"https://colab.research.google.com/github/elibtronic/lja_advanced_python_for_librarians/blob/main/Week_1_Workalong.ipynb\" target=\"_parent\"><img src=\"https://colab.research.google.com/assets/colab-badge.svg\" alt=\"Open In Colab\"/></a>"
      ]
    },
    {
      "cell_type": "markdown",
      "source": [
        "\n",
        "#Week 1 - Structured Data Retrieval"
      ],
      "metadata": {
        "id": "KAHt4464R7Rx"
      }
    },
    {
      "cell_type": "markdown",
      "source": [
        "##Total information from a CollectionBuilder site"
      ],
      "metadata": {
        "id": "NrPLH8JPZt8E"
      }
    },
    {
      "cell_type": "code",
      "execution_count": null,
      "metadata": {
        "id": "HwngkpbvRzF7"
      },
      "outputs": [],
      "source": [
        "import requests\n",
        "import json\n",
        "import pandas as pd\n",
        "from urllib.parse import urlparse"
      ]
    },
    {
      "cell_type": "code",
      "source": [
        "# @title URL of JSON File for complete CollectionBuilder Metadata {\"run\":\"auto\",\"display-mode\":\"form\"}\n",
        "\n",
        "json_cb_url = \"https://elibtronic.github.io/AIL_Database/assets/data/metadata.json\" # @param {\"type\":\"string\",\"placeholder\":\"https://elibtronic.github.io/AIL_Database/assets/data/metadata.json\"}\n",
        "\n"
      ],
      "metadata": {
        "id": "dpz3IgSTThuS"
      },
      "execution_count": null,
      "outputs": []
    },
    {
      "cell_type": "code",
      "source": [
        "response_cb = requests.get(json_cb_url)\n",
        "total_cb_data = response_cb.json()\n",
        "objects_cb_data = total_cb_data['objects']"
      ],
      "metadata": {
        "id": "HzSkHzjjTd-K"
      },
      "execution_count": null,
      "outputs": []
    },
    {
      "cell_type": "markdown",
      "source": [
        "\n",
        "###Printing all items in a JSON object"
      ],
      "metadata": {
        "id": "SuQkerMVeClx"
      }
    },
    {
      "cell_type": "code",
      "source": [
        "#Will print the whole JSON object\n",
        "print(json.dumps(total_cb_data,indent=2))"
      ],
      "metadata": {
        "id": "q7XS8IbWVFfI"
      },
      "execution_count": null,
      "outputs": []
    },
    {
      "cell_type": "code",
      "source": [
        "#Will just print out the 'objects' in the JSON object, probably more useful\n",
        "print(json.dumps(objects_cb_data,indent=2))"
      ],
      "metadata": {
        "id": "GoiTqtlpXKC0"
      },
      "execution_count": null,
      "outputs": []
    },
    {
      "cell_type": "markdown",
      "source": [
        "###Picking a specific item in JSON\n",
        "\n",
        "And any Python datastructure for that matter"
      ],
      "metadata": {
        "id": "7fICpbvsd_4w"
      }
    },
    {
      "cell_type": "code",
      "source": [
        "list_of_letters = ['a','b','c','d','e']\n",
        "\n",
        "#print item at the '1' position\n",
        "print(list_of_letters[1])\n"
      ],
      "metadata": {
        "id": "2YZxdGL4ecBW"
      },
      "execution_count": null,
      "outputs": []
    },
    {
      "cell_type": "code",
      "source": [
        "#The first JSON object in our object\n",
        "print(json.dumps(objects_cb_data[0],indent=2))"
      ],
      "metadata": {
        "id": "M2ljQyIgenil"
      },
      "execution_count": null,
      "outputs": []
    },
    {
      "cell_type": "code",
      "source": [
        "# All the keys in the first item\n",
        "for item in objects_cb_data[0].keys():\n",
        "  print(item)\n",
        ""
      ],
      "metadata": {
        "id": "J4tvwrMxXjJr"
      },
      "execution_count": null,
      "outputs": []
    },
    {
      "cell_type": "code",
      "source": [
        "#Print all the values in the first item\n",
        "for item in objects_cb_data[0].values():\n",
        "  print(item)"
      ],
      "metadata": {
        "id": "8ZEC_86mYv6V"
      },
      "execution_count": null,
      "outputs": []
    },
    {
      "cell_type": "markdown",
      "source": [
        "\n",
        "### The URLs found in the data set"
      ],
      "metadata": {
        "id": "qHZJveQwjIrX"
      }
    },
    {
      "cell_type": "code",
      "source": [
        "#print the URLs in the dataset\n",
        "for item in objects_cb_data:\n",
        "  print(item['URL'])"
      ],
      "metadata": {
        "id": "5BhCeiV9jOo0"
      },
      "execution_count": null,
      "outputs": []
    },
    {
      "cell_type": "markdown",
      "source": [
        "\n",
        "##Just the subject information from a CollectionBuilder site\n"
      ],
      "metadata": {
        "id": "Qy7jL_MGZstj"
      }
    },
    {
      "cell_type": "code",
      "source": [
        "# @title URL of JSON file for subjects only in CollectionBuilder {\"run\":\"auto\",\"display-mode\":\"form\"}\n",
        "json_subjects_url = \"https://elibtronic.github.io/AIL_Database/assets/data/subjects.json\" # @param {\"type\":\"string\",\"placeholder\":\"https://elibtronic.github.io/AIL_Database/assets/data/subjects.json\"}\n",
        "\n",
        "\n"
      ],
      "metadata": {
        "id": "Xh4-UmfQZ4ix"
      },
      "execution_count": null,
      "outputs": []
    },
    {
      "cell_type": "code",
      "source": [
        "response_subjects = requests.get(json_subjects_url)\n",
        "total_subject_data = response_subjects.json()\n",
        "subject_cb_data = total_subject_data['subjects']"
      ],
      "metadata": {
        "id": "JorElMvlaRHV"
      },
      "execution_count": null,
      "outputs": []
    },
    {
      "cell_type": "code",
      "source": [
        "# print just the first item in the subjects JSON object\n",
        "print(json.dumps(subject_cb_data[0],indent=2))"
      ],
      "metadata": {
        "id": "lrmjX3AObpOq"
      },
      "execution_count": null,
      "outputs": []
    },
    {
      "cell_type": "code",
      "source": [
        "#print a frequency count of subjects\n",
        "subject_frequency = {}\n",
        "\n",
        "\n",
        "#Change JSON data into a dict\n",
        "for item in subject_cb_data:\n",
        "  subject_frequency[item['subject']] = item['count']\n",
        "\n",
        "#Print the dict after sorting it\n",
        "for info_pair in sorted(subject_frequency.items(), key=lambda x: x[1],reverse=True):\n",
        "  print(info_pair[0], info_pair[1])"
      ],
      "metadata": {
        "id": "6YFNrYnTaXTj"
      },
      "execution_count": null,
      "outputs": []
    },
    {
      "cell_type": "markdown",
      "source": [
        "\n",
        "## Moral of the story\n",
        "\n",
        "JSON is just one way to represent data that has keys and values. So, we can put JSON data into a pandas dataframe just like a spreadsheet"
      ],
      "metadata": {
        "id": "SYs0LXsEe8tZ"
      }
    },
    {
      "cell_type": "code",
      "source": [
        "#That doesn't look nice!\n",
        "subjects_df = pd.read_json(json_cb_url)\n",
        "subjects_df"
      ],
      "metadata": {
        "id": "a8AK6idefZ7Y"
      },
      "execution_count": null,
      "outputs": []
    },
    {
      "cell_type": "code",
      "source": [
        "#We'll normalize to get Pandas to try to 'shape' the data\n",
        "normalized_df = pd.json_normalize(subjects_df['objects'])\n",
        "normalized_df"
      ],
      "metadata": {
        "id": "tom3sG7HgkIF"
      },
      "execution_count": null,
      "outputs": []
    }
  ]
}