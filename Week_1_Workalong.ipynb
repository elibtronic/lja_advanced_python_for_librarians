{
  "nbformat": 4,
  "nbformat_minor": 0,
  "metadata": {
    "colab": {
      "provenance": [],
      "authorship_tag": "ABX9TyP+OKSRSrztZxTYZWA2MH9f"
    },
    "kernelspec": {
      "name": "python3",
      "display_name": "Python 3"
    },
    "language_info": {
      "name": "python"
    }
  },
  "cells": [
    {
      "cell_type": "markdown",
      "source": [
        "\n",
        "#Week 1 - Structured Data Retrieval"
      ],
      "metadata": {
        "id": "KAHt4464R7Rx"
      }
    },
    {
      "cell_type": "markdown",
      "source": [
        "##Total information from a CollectionBuilder site"
      ],
      "metadata": {
        "id": "NrPLH8JPZt8E"
      }
    },
    {
      "cell_type": "code",
      "execution_count": 111,
      "metadata": {
        "id": "HwngkpbvRzF7"
      },
      "outputs": [],
      "source": [
        "import requests\n",
        "import json\n",
        "import pandas as pd\n",
        "from urllib.parse import urlparse"
      ]
    },
    {
      "cell_type": "code",
      "source": [
        "# @title URL of JSON File for complete CollectionBuilder Metadata\n",
        "\n",
        "json_cb_url = \"https://elibtronic.github.io/AIL_Database/assets/data/metadata.json\" # @param {\"type\":\"string\",\"placeholder\":\"https://elibtronic.github.io/AIL_Database/assets/data/metadata.json\"}\n",
        "\n"
      ],
      "metadata": {
        "id": "dpz3IgSTThuS"
      },
      "execution_count": null,
      "outputs": []
    },
    {
      "cell_type": "code",
      "source": [
        "response_cb = requests.get(json_cb_url)\n",
        "total_cb_data = response_cb.json()\n",
        "objects_cb_data = total_cb_data['objects']"
      ],
      "metadata": {
        "id": "HzSkHzjjTd-K"
      },
      "execution_count": null,
      "outputs": []
    },
    {
      "cell_type": "markdown",
      "source": [
        "\n",
        "###Printing all items in a JSON object"
      ],
      "metadata": {
        "id": "SuQkerMVeClx"
      }
    },
    {
      "cell_type": "code",
      "source": [
        "#Will print the whole JSON object\n",
        "print(json.dumps(total_cb_data,indent=2))"
      ],
      "metadata": {
        "id": "q7XS8IbWVFfI"
      },
      "execution_count": null,
      "outputs": []
    },
    {
      "cell_type": "code",
      "source": [
        "#Will just print out the 'objects' in the JSON object, probably more useful\n",
        "print(json.dumps(objects_cb_data,indent=2))"
      ],
      "metadata": {
        "id": "GoiTqtlpXKC0"
      },
      "execution_count": null,
      "outputs": []
    },
    {
      "cell_type": "markdown",
      "source": [
        "###Picking a specific item in JSON\n",
        "\n",
        "And any Python datastructure for that matter"
      ],
      "metadata": {
        "id": "7fICpbvsd_4w"
      }
    },
    {
      "cell_type": "code",
      "source": [
        "list_of_letters = ['a','b','c','d','e']\n",
        "\n",
        "#print item at the '1' position\n",
        "print(list_of_letters[1])\n"
      ],
      "metadata": {
        "id": "2YZxdGL4ecBW"
      },
      "execution_count": null,
      "outputs": []
    },
    {
      "cell_type": "code",
      "source": [
        "#The first JSON object in our object\n",
        "print(json.dumps(objects_cb_data[0],indent=2))"
      ],
      "metadata": {
        "id": "M2ljQyIgenil"
      },
      "execution_count": null,
      "outputs": []
    },
    {
      "cell_type": "code",
      "source": [
        "# All the keys in the first item\n",
        "for item in objects_cb_data[0].keys():\n",
        "  print(item)\n",
        ""
      ],
      "metadata": {
        "id": "J4tvwrMxXjJr"
      },
      "execution_count": null,
      "outputs": []
    },
    {
      "cell_type": "code",
      "source": [
        "#Print all the values in the first item\n",
        "for item in objects_cb_data[0].values():\n",
        "  print(item)"
      ],
      "metadata": {
        "id": "8ZEC_86mYv6V"
      },
      "execution_count": null,
      "outputs": []
    },
    {
      "cell_type": "markdown",
      "source": [
        "\n",
        "### The URLs found in the data set"
      ],
      "metadata": {
        "id": "qHZJveQwjIrX"
      }
    },
    {
      "cell_type": "code",
      "source": [
        "#print the URLs in the dataset\n",
        "for item in objects_cb_data:\n",
        "  print(item['URL'])"
      ],
      "metadata": {
        "id": "5BhCeiV9jOo0"
      },
      "execution_count": null,
      "outputs": []
    },
    {
      "cell_type": "code",
      "source": [
        "#Let's try to cluster this information\n",
        "\n",
        "url_frequency = {}\n",
        "for item in objects_cb_data:\n",
        "  domain_name = urlparse(item['URL']).netloc\n",
        "\n",
        "  #for the sake of clarity remove the www at the start of the domains\n",
        "  if domain_name.startswith('www.'):\n",
        "    domain_name = domain_name[4:]\n",
        "\n",
        "\n",
        "\n",
        "  if domain_name in url_frequency:\n",
        "    url_frequency[domain_name] += 1\n",
        "  else:\n",
        "    url_frequency[domain_name] = 1\n",
        "\n",
        "#for item in objects_cb_data:\n",
        "for info_pair in sorted(url_frequency.items(), key=lambda x: x[1],reverse=True):\n",
        "  print(info_pair[0], info_pair[1])"
      ],
      "metadata": {
        "id": "FWR_i14KjfzU"
      },
      "execution_count": null,
      "outputs": []
    },
    {
      "cell_type": "markdown",
      "source": [
        "\n",
        "##Just the subject information from a CollectionBuilder site\n"
      ],
      "metadata": {
        "id": "Qy7jL_MGZstj"
      }
    },
    {
      "cell_type": "code",
      "source": [
        "# @title URL of JSON file for subjects only in CollectionBuilder\n",
        "json_subjects_url = \"https://elibtronic.github.io/AIL_Database/assets/data/subjects.json\" # @param {\"type\":\"string\",\"placeholder\":\"https://elibtronic.github.io/AIL_Database/assets/data/subjects.json\"}\n",
        "\n",
        "\n"
      ],
      "metadata": {
        "cellView": "form",
        "id": "Xh4-UmfQZ4ix"
      },
      "execution_count": null,
      "outputs": []
    },
    {
      "cell_type": "code",
      "source": [
        "response_subjects = requests.get(json_subjects_url)\n",
        "total_subject_data = response_subjects.json()\n",
        "subject_cb_data = total_subject_data['subjects']"
      ],
      "metadata": {
        "id": "JorElMvlaRHV"
      },
      "execution_count": 106,
      "outputs": []
    },
    {
      "cell_type": "code",
      "source": [
        "# print just the first item in the subjects JSON object\n",
        "print(json.dumps(subject_cb_data[0],indent=2))"
      ],
      "metadata": {
        "colab": {
          "base_uri": "https://localhost:8080/"
        },
        "id": "lrmjX3AObpOq",
        "outputId": "914ceb6e-4b68-4ae7-a738-32f351f65401"
      },
      "execution_count": 107,
      "outputs": [
        {
          "output_type": "stream",
          "name": "stdout",
          "text": [
            "{\n",
            "  \"subject\": \"generative-ai\",\n",
            "  \"count\": 23,\n",
            "  \"link\": \"https://elibtronic.github.io/AIL_Database/browse.html#generative-ai\"\n",
            "}\n"
          ]
        }
      ]
    },
    {
      "cell_type": "code",
      "source": [
        "#print a frequency count of subjects\n",
        "subject_frequency = {}\n",
        "\n",
        "\n",
        "#Change JSON data into a dict\n",
        "for item in subject_cb_data:\n",
        "  subject_frequency[item['subject']] = item['count']\n",
        "\n",
        "#Print the dict after sorting it\n",
        "for info_pair in sorted(subject_frequency.items(), key=lambda x: x[1],reverse=True):\n",
        "  print(info_pair[0], info_pair[1])"
      ],
      "metadata": {
        "colab": {
          "base_uri": "https://localhost:8080/"
        },
        "id": "6YFNrYnTaXTj",
        "outputId": "fce6791c-23e4-4816-e49f-83b82f17fc9f"
      },
      "execution_count": 108,
      "outputs": [
        {
          "output_type": "stream",
          "name": "stdout",
          "text": [
            "generative-ai 23\n",
            "news 15\n",
            "library 13\n",
            "ethics 9\n",
            "week-2 8\n",
            "week-3 7\n",
            "paper 6\n",
            "week-1 6\n",
            "resource 6\n",
            "blog 6\n",
            "statement 5\n",
            "video 5\n",
            "week-4 5\n",
            "labour 4\n",
            "article 4\n",
            "critique 3\n",
            "chapter 2\n",
            "ai 2\n",
            "agi 1\n",
            "book-review 1\n",
            "poll 1\n",
            "policy 1\n",
            "openai 1\n",
            "safety 1\n",
            "industry 1\n",
            "equity 1\n",
            "llm 1\n",
            "black-box 1\n",
            "machine-learning 1\n",
            "metadata 1\n",
            "chat-gpt 1\n",
            "techbubble 1\n",
            "cryptocurrency 1\n",
            "research-process 1\n",
            "ai-literacy 1\n",
            "sustainability 1\n",
            "environment 1\n",
            "book 1\n",
            "governance 1\n"
          ]
        }
      ]
    },
    {
      "cell_type": "markdown",
      "source": [
        "\n",
        "## Moral of the story\n",
        "\n",
        "JSON is just one way to represent data that has keys and values. So, we can put JSON data into a pandas dataframe just like a spreadsheet"
      ],
      "metadata": {
        "id": "SYs0LXsEe8tZ"
      }
    },
    {
      "cell_type": "code",
      "source": [
        "#That doesn't look nice!\n",
        "subjects_df = pd.read_json(json_cb_url)\n",
        "subjects_df"
      ],
      "metadata": {
        "id": "a8AK6idefZ7Y"
      },
      "execution_count": null,
      "outputs": []
    },
    {
      "cell_type": "code",
      "source": [
        "#We'll normalize to get Pandas to try to 'shape' the data\n",
        "normalized_df = pd.json_normalize(subjects_df['objects'])\n",
        "normalized_df"
      ],
      "metadata": {
        "id": "tom3sG7HgkIF"
      },
      "execution_count": null,
      "outputs": []
    },
    {
      "cell_type": "code",
      "source": [],
      "metadata": {
        "id": "IzG_ZupghMGc"
      },
      "execution_count": null,
      "outputs": []
    }
  ]
}