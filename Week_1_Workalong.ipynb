{
  "nbformat": 4,
  "nbformat_minor": 0,
  "metadata": {
    "colab": {
      "provenance": [],
      "authorship_tag": "ABX9TyNUM+II2eAFK6XPWQkUepyC",
      "include_colab_link": true
    },
    "kernelspec": {
      "name": "python3",
      "display_name": "Python 3"
    },
    "language_info": {
      "name": "python"
    }
  },
  "cells": [
    {
      "cell_type": "markdown",
      "metadata": {
        "id": "view-in-github",
        "colab_type": "text"
      },
      "source": [
        "<a href=\"https://colab.research.google.com/github/elibtronic/lja_advanced_python_for_librarians/blob/main/Week_1_Workalong.ipynb\" target=\"_parent\"><img src=\"https://colab.research.google.com/assets/colab-badge.svg\" alt=\"Open In Colab\"/></a>"
      ]
    },
    {
      "cell_type": "markdown",
      "source": [
        "\n",
        "#Week 1 - Structured Data Retrieval"
      ],
      "metadata": {
        "id": "KAHt4464R7Rx"
      }
    },
    {
      "cell_type": "markdown",
      "source": [
        "\n",
        "## But First, indexing\n",
        "\n",
        "One fundamental skill we should spend a bit of time working on is indexing inside of a data structure. This is a pretty old school thing but it is learning. We'll see that it comes in handing when selecting subsets of lists. in Python this is called using the `slice` operator.\n",
        "\n",
        "This is useful for us because we will be loading up big `lists` of data and sometimes we only want to look at a bit of that data."
      ],
      "metadata": {
        "id": "TnBvERMCr5Ct"
      }
    },
    {
      "cell_type": "code",
      "source": [
        "\n",
        "countries = [\"Brazil\",\"Spain\",\"Italy\",\"United Kingdom\",\"Germany\",\"France\"]\n",
        "\n",
        "#Prints the first item\n",
        "print(countries[0])\n",
        "\n",
        "#Prints the last item\n",
        "#Using a negative number will start the indexing at the end\n",
        "print(countries[-1])\n",
        "\n",
        "#Prints a third and fourth item\n",
        "#Using a : will tell Python you want multiple items\n",
        "print(countries[2:4])\n",
        "\n",
        "#Prints the last two items\n",
        "#Combination of negative values and the colon\n",
        "print(countries[-2:])\n",
        "\n"
      ],
      "metadata": {
        "id": "kFI_2MqPsu0y"
      },
      "execution_count": null,
      "outputs": []
    },
    {
      "cell_type": "markdown",
      "source": [
        "###Q?\n"
      ],
      "metadata": {
        "id": "0SlupQcStmza"
      }
    },
    {
      "cell_type": "code",
      "source": [
        "#Q"
      ],
      "metadata": {
        "id": "SQMc_cw_tsKX"
      },
      "execution_count": null,
      "outputs": []
    },
    {
      "cell_type": "markdown",
      "source": [
        "###Q?\n"
      ],
      "metadata": {
        "id": "Uk1jO72wt9Dp"
      }
    },
    {
      "cell_type": "code",
      "source": [
        "#Q"
      ],
      "metadata": {
        "id": "WsypKf-Ot9Dq"
      },
      "execution_count": null,
      "outputs": []
    },
    {
      "cell_type": "markdown",
      "source": [
        "###Q?\n"
      ],
      "metadata": {
        "id": "fnt1vOArt9SE"
      }
    },
    {
      "cell_type": "code",
      "source": [
        "#Q"
      ],
      "metadata": {
        "id": "jJj_DneKt9SE"
      },
      "execution_count": null,
      "outputs": []
    },
    {
      "cell_type": "markdown",
      "source": [
        "\n",
        "##Grabbing information\n",
        "\n",
        "We can get Python to retrieve information from the web by using the [requests]() library that will grab a web-page. Once we have that we can do interesting things with the contents as well as the metadata of the request.\n",
        "\n",
        "We can bring in `urlparse` to really pick apart the contents of that object."
      ],
      "metadata": {
        "id": "jAkmvyKIUIU7"
      }
    },
    {
      "cell_type": "code",
      "source": [
        "import requests"
      ],
      "metadata": {
        "id": "qI0TxFufuNHi"
      },
      "execution_count": null,
      "outputs": []
    },
    {
      "cell_type": "code",
      "source": [
        "#Grab the HTML of the CollectionBuilder page we will look at later\n",
        "response = requests.get(\"https://elibtronic.github.io/AIL_Database/\")"
      ],
      "metadata": {
        "id": "pcSpZDK6umEC"
      },
      "execution_count": null,
      "outputs": []
    },
    {
      "cell_type": "code",
      "source": [
        "#Prints the response code from the request\n",
        "print(response.status_code)"
      ],
      "metadata": {
        "id": "Bx6_aryfxKqN"
      },
      "execution_count": null,
      "outputs": []
    },
    {
      "cell_type": "code",
      "source": [
        "#Prints the HTML Headers\n",
        "print(response.headers)"
      ],
      "metadata": {
        "id": "cxcp1NNTxYzs"
      },
      "execution_count": null,
      "outputs": []
    },
    {
      "cell_type": "code",
      "source": [
        "#Print the content of the webpage\n",
        "print(response.text)"
      ],
      "metadata": {
        "id": "-1X5Oh2zxZST"
      },
      "execution_count": null,
      "outputs": []
    },
    {
      "cell_type": "markdown",
      "source": [
        "##Total information from a CollectionBuilder site\n",
        "\n",
        "Now that we have learned to grab random webpages into Python we are going to move towards retrieving structured information. Instead of a random webpage we are going to grab information from an API.\n",
        "\n",
        "Further we are going to be working with structured data called JSON."
      ],
      "metadata": {
        "id": "NrPLH8JPZt8E"
      }
    },
    {
      "cell_type": "code",
      "execution_count": null,
      "metadata": {
        "id": "HwngkpbvRzF7"
      },
      "outputs": [],
      "source": [
        "#Our library to work with JSON\n",
        "import json\n",
        "\n",
        "#Our old friend pandas\n",
        "import pandas as pd"
      ]
    },
    {
      "cell_type": "markdown",
      "source": [
        "\n",
        "## Collection Builder\n",
        "\n",
        "CollectionBuilder is a great platform for turning a spreadsheet of infomration into a full fledged website. I use it for lots of different things but most importantly I create a [database](https://elibtronic.github.io/AIL_Database/) of readings for my Library Juice class [AI in Libraries, For Skeptics](https://libraryjuiceacademy.com/shop/course/331-ai-and-libraries-for-skeptics/). Most importantly for us CollectionBuilder also has an API interface it creates for ever site it creates. So you can look at the site dressed up as HTML, but also as data in a format called JSON."
      ],
      "metadata": {
        "id": "j0xiaUpCuvWY"
      }
    },
    {
      "cell_type": "code",
      "source": [
        "# @title URL of JSON File for complete CollectionBuilder Metadata {\"run\":\"auto\",\"display-mode\":\"form\"}\n",
        "\n",
        "json_cb_url = \"https://elibtronic.github.io/AIL_Database/assets/data/metadata.json\" # @param {\"type\":\"string\",\"placeholder\":\"https://elibtronic.github.io/AIL_Database/assets/data/metadata.json\"}\n",
        "\n"
      ],
      "metadata": {
        "id": "dpz3IgSTThuS"
      },
      "execution_count": null,
      "outputs": []
    },
    {
      "cell_type": "code",
      "source": [
        "response_cb = requests.get(json_cb_url)\n",
        "total_cb_data = response_cb.json()\n",
        "objects_cb_data = total_cb_data['objects']"
      ],
      "metadata": {
        "id": "HzSkHzjjTd-K"
      },
      "execution_count": null,
      "outputs": []
    },
    {
      "cell_type": "markdown",
      "source": [
        "\n",
        "###Printing all items in a JSON object"
      ],
      "metadata": {
        "id": "SuQkerMVeClx"
      }
    },
    {
      "cell_type": "code",
      "source": [
        "#Will print the whole JSON object\n",
        "print(json.dumps(total_cb_data,indent=2))"
      ],
      "metadata": {
        "id": "q7XS8IbWVFfI"
      },
      "execution_count": null,
      "outputs": []
    },
    {
      "cell_type": "code",
      "source": [
        "#Will just print out the 'objects' in the JSON object, probably more useful\n",
        "print(json.dumps(objects_cb_data,indent=2))"
      ],
      "metadata": {
        "id": "GoiTqtlpXKC0"
      },
      "execution_count": null,
      "outputs": []
    },
    {
      "cell_type": "markdown",
      "source": [
        "###Picking a specific item in JSON\n",
        "\n",
        "And any Python datastructure for that matter"
      ],
      "metadata": {
        "id": "7fICpbvsd_4w"
      }
    },
    {
      "cell_type": "code",
      "source": [
        "list_of_letters = ['a','b','c','d','e']\n",
        "\n",
        "#print item at the '1' position\n",
        "print(list_of_letters[1])\n"
      ],
      "metadata": {
        "id": "2YZxdGL4ecBW"
      },
      "execution_count": null,
      "outputs": []
    },
    {
      "cell_type": "code",
      "source": [
        "#The first JSON object in our object using the slice operator\n",
        "print(json.dumps(objects_cb_data[0],indent=2))"
      ],
      "metadata": {
        "id": "M2ljQyIgenil"
      },
      "execution_count": null,
      "outputs": []
    },
    {
      "cell_type": "code",
      "source": [
        "# All the keys in the first item using the slice operator\n",
        "for item in objects_cb_data[0].keys():\n",
        "  print(item)\n"
      ],
      "metadata": {
        "id": "J4tvwrMxXjJr"
      },
      "execution_count": null,
      "outputs": []
    },
    {
      "cell_type": "code",
      "source": [
        "#Print all the values in the first item using the slice operator\n",
        "for item in objects_cb_data[0].values():\n",
        "  print(item)"
      ],
      "metadata": {
        "id": "8ZEC_86mYv6V"
      },
      "execution_count": null,
      "outputs": []
    },
    {
      "cell_type": "markdown",
      "source": [
        "\n",
        "### The URLs found in the data set"
      ],
      "metadata": {
        "id": "qHZJveQwjIrX"
      }
    },
    {
      "cell_type": "code",
      "source": [
        "#print the URLs in the dataset\n",
        "for item in objects_cb_data:\n",
        "  print(item['URL'])"
      ],
      "metadata": {
        "id": "5BhCeiV9jOo0"
      },
      "execution_count": null,
      "outputs": []
    },
    {
      "cell_type": "markdown",
      "source": [
        "\n",
        "### A frequency list of URLS found in the data\n",
        "\n",
        "To perform a little bit of analysis we are going to grab all of the URLs from the dataset, extract their domain names using the `urlparse` function and will print that to screen highest to lowest"
      ],
      "metadata": {
        "id": "4kQ7LGcYzES5"
      }
    },
    {
      "cell_type": "code",
      "source": [
        "from urllib.parse import urlparse"
      ],
      "metadata": {
        "id": "y14nf7lrzPCk"
      },
      "execution_count": null,
      "outputs": []
    },
    {
      "cell_type": "markdown",
      "source": [
        "\n",
        "##Subject information from a CollectionBuilder site\n",
        "\n",
        "One of API _end points_ from CollectionBuilder is a listing of the subjects in the dataset. The following few cells look just at that."
      ],
      "metadata": {
        "id": "Qy7jL_MGZstj"
      }
    },
    {
      "cell_type": "code",
      "source": [
        "# @title URL of JSON file for subjects only in CollectionBuilder {\"run\":\"auto\",\"display-mode\":\"form\"}\n",
        "json_subjects_url = \"https://elibtronic.github.io/AIL_Database/assets/data/subjects.json\" # @param {\"type\":\"string\",\"placeholder\":\"https://elibtronic.github.io/AIL_Database/assets/data/subjects.json\"}\n",
        "\n",
        "\n"
      ],
      "metadata": {
        "id": "Xh4-UmfQZ4ix"
      },
      "execution_count": null,
      "outputs": []
    },
    {
      "cell_type": "code",
      "source": [
        "response_subjects = requests.get(json_subjects_url)\n",
        "total_subject_data = response_subjects.json()\n",
        "subject_cb_data = total_subject_data['subjects']"
      ],
      "metadata": {
        "id": "JorElMvlaRHV"
      },
      "execution_count": null,
      "outputs": []
    },
    {
      "cell_type": "code",
      "source": [
        "# print just the first item in the subjects JSON object\n",
        "print(json.dumps(subject_cb_data[0],indent=2))"
      ],
      "metadata": {
        "id": "lrmjX3AObpOq"
      },
      "execution_count": null,
      "outputs": []
    },
    {
      "cell_type": "markdown",
      "source": [
        "\n",
        "## Frequency Listing"
      ],
      "metadata": {
        "id": "T73a0jCyy7IY"
      }
    },
    {
      "cell_type": "code",
      "source": [
        "\n",
        "\n",
        "#print a frequency count of subjects\n",
        "subject_frequency = {}\n",
        "\n",
        "\n",
        "#Change JSON data into a dict\n",
        "for item in subject_cb_data:\n",
        "  subject_frequency[item['subject']] = item['count']\n",
        "\n",
        "#Print the dict after sorting it\n",
        "for info_pair in sorted(subject_frequency.items(), key=lambda x: x[1],reverse=True):\n",
        "  print(info_pair[0], info_pair[1])"
      ],
      "metadata": {
        "id": "6YFNrYnTaXTj"
      },
      "execution_count": null,
      "outputs": []
    },
    {
      "cell_type": "markdown",
      "source": [
        "\n",
        "## Moral of the story\n",
        "\n",
        "JSON is just one way to represent data that has keys and values. So, we can put JSON data into a pandas dataframe just like a spreadsheet"
      ],
      "metadata": {
        "id": "SYs0LXsEe8tZ"
      }
    },
    {
      "cell_type": "code",
      "source": [
        "#That doesn't look nice!\n",
        "subjects_df = pd.read_json(json_cb_url)\n",
        "subjects_df"
      ],
      "metadata": {
        "id": "a8AK6idefZ7Y"
      },
      "execution_count": null,
      "outputs": []
    },
    {
      "cell_type": "code",
      "source": [
        "#We'll normalize to get Pandas to try to 'shape' the data\n",
        "normalized_df = pd.json_normalize(subjects_df['objects'])\n",
        "normalized_df"
      ],
      "metadata": {
        "id": "tom3sG7HgkIF"
      },
      "execution_count": null,
      "outputs": []
    }
  ]
}