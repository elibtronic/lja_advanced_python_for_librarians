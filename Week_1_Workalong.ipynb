{
  "nbformat": 4,
  "nbformat_minor": 0,
  "metadata": {
    "colab": {
      "provenance": [],
      "authorship_tag": "ABX9TyO5QI+EqbDd+cvZc0aOVlYJ"
    },
    "kernelspec": {
      "name": "python3",
      "display_name": "Python 3"
    },
    "language_info": {
      "name": "python"
    }
  },
  "cells": [
    {
      "cell_type": "markdown",
      "source": [
        "\n",
        "#Week 1 - Structured Data Retrieval\n",
        "\n",
        "(Be sure to save this to Drive before starting)\n",
        "\n",
        "We are going to spend the bulk of our time this week retrieving API data into a type of Python variable called JSON that has some structure to it."
      ],
      "metadata": {
        "id": "KAHt4464R7Rx"
      }
    },
    {
      "cell_type": "markdown",
      "source": [
        "## A brief recap\n",
        "\n",
        "There is a chance you haven't touched Python since last class. Before proceeding it might be a good idea to take a look at your notebooks from last time and the course material on the Library Juice Academy Course site.\n",
        "\n",
        "Take a look at the next code cell and try to guess what it will print before you run it to exercise your Python skills a bit."
      ],
      "metadata": {
        "id": "yUn7ouOvyJSD"
      }
    },
    {
      "cell_type": "code",
      "source": [
        "# average temp for the month in degrees C\n",
        "# in a dictionary variable\n",
        "\n",
        "yearly_weather = {\n",
        "    \"January\": -10,\n",
        "    \"February\": -15,\n",
        "    \"March\": 5,\n",
        "    \"April\": 10,\n",
        "    \"May\": 15,\n",
        "    \"June\": 20,\n",
        "    \"July\": 30,\n",
        "    \"August\": 35,\n",
        "    \"September\": 30,\n",
        "    \"October\": 10,\n",
        "    \"November\": 5,\n",
        "    \"December\": 0\n",
        "}\n",
        "\n",
        "\n",
        "#some loops and conditionals\n",
        "print(\"Below 0 months\")\n",
        "for month in yearly_weather:\n",
        "  if yearly_weather[month] < 0:\n",
        "    print(month)\n",
        "\n",
        "print(\"Above 0 months\")\n",
        "for month in yearly_weather:\n",
        "  if yearly_weather[month] >= 0:\n",
        "    print(month)\n",
        "\n",
        "print(\"---\")\n",
        "\n",
        "# making our code a bit interactive by asking what cutoff temp to use\n",
        "cutoff = input(\"What tempurature do you want to divide on? \")\n",
        "\n",
        "print(\"---\")\n",
        "\n",
        "print(\"Above and equal to \"+ cutoff + \" months\")\n",
        "for month in yearly_weather:\n",
        "  if yearly_weather[month] > int(cutoff):\n",
        "    print(month)\n",
        "\n",
        "print(\"Below \"+ cutoff + \" months\")\n",
        "for month in yearly_weather:\n",
        "  if yearly_weather[month] < int(cutoff):\n",
        "    print(month)\n"
      ],
      "metadata": {
        "id": "-1OCAyP5yIh7"
      },
      "execution_count": null,
      "outputs": []
    },
    {
      "cell_type": "markdown",
      "source": [
        "\n",
        "## But First, indexing\n",
        "\n",
        "One fundamental skill we should spend a bit of time working on is indexing inside of a data structure. This is a pretty old school thing but it is worth learning none the same. We'll see that it comes in handy when selecting subsets of lists. In Python this is called using the `slice` operator.\n",
        "\n",
        "This is useful for us because we will be loading up big `lists` of data and sometimes we only want to look at a bit of that data."
      ],
      "metadata": {
        "id": "TnBvERMCr5Ct"
      }
    },
    {
      "cell_type": "code",
      "source": [
        "\n",
        "countries = [\"Brazil\",\"Spain\",\"Italy\",\"United Kingdom\",\"Germany\",\"France\"]\n",
        "\n",
        "#Prints the first item\n",
        "print(countries[0])\n",
        "\n",
        "#Prints the last item\n",
        "#Using a negative number will start the indexing at the end\n",
        "print(countries[-1])\n",
        "\n",
        "#Prints a third and fourth item\n",
        "#Using a : will tell Python you want multiple items\n",
        "#this is called the slice operator\n",
        "print(countries[2:4])\n",
        "\n",
        "#Prints the last two items\n",
        "#Combination of negative values and the colon (slice)\n",
        "print(countries[-2:])\n",
        "\n"
      ],
      "metadata": {
        "id": "kFI_2MqPsu0y"
      },
      "execution_count": null,
      "outputs": []
    },
    {
      "cell_type": "markdown",
      "source": [
        "**Q1** Print the 3rd item in the `countries` list\n"
      ],
      "metadata": {
        "id": "0SlupQcStmza"
      }
    },
    {
      "cell_type": "code",
      "source": [
        "#Q1\n",
        "countries[]"
      ],
      "metadata": {
        "id": "SQMc_cw_tsKX"
      },
      "execution_count": null,
      "outputs": []
    },
    {
      "cell_type": "markdown",
      "source": [
        "**Q2** Print the dogs in the following list, using the slice operator.\n"
      ],
      "metadata": {
        "id": "Uk1jO72wt9Dp"
      }
    },
    {
      "cell_type": "code",
      "source": [
        "#Q2\n",
        "\n",
        "animals = [\"Garfield\",\"Odie\",\"Clifford\",\"Nemo\"]\n",
        "print(animals[])"
      ],
      "metadata": {
        "id": "WsypKf-Ot9Dq"
      },
      "execution_count": null,
      "outputs": []
    },
    {
      "cell_type": "markdown",
      "source": [
        "**Q3** Print your favorite dessert to the screen. Assuming your favourite is in this list!\n"
      ],
      "metadata": {
        "id": "fnt1vOArt9SE"
      }
    },
    {
      "cell_type": "code",
      "source": [
        "#Q3\n",
        "desserts = [\"Pie\",\"Cake\",\"Ice Cream\",\"Sherbert\"]\n",
        "print(desserts[])"
      ],
      "metadata": {
        "id": "jJj_DneKt9SE"
      },
      "execution_count": null,
      "outputs": []
    },
    {
      "cell_type": "markdown",
      "source": [
        "\n",
        "##Grabbing information\n",
        "\n",
        "We can get Python to retrieve information from the web by using the [requests]() library that will grab a web-page. Once we have that we can do interesting things with the contents as well as the metadata of the request.\n",
        "\n",
        "We'll be using a [CollectionBuilder](https://collectionbuilder.github.io/) exhibit for this week's material. It is the one I use for the [AI in Libraries, for Skeptics](https://libraryjuiceacademy.com/shop/course/331-ai-and-libraries-for-skeptics/) class.\n",
        "\n",
        "Run the next set of cells to see this in action."
      ],
      "metadata": {
        "id": "jAkmvyKIUIU7"
      }
    },
    {
      "cell_type": "code",
      "source": [
        "#Our New Library!\n",
        "import requests\n",
        "\n",
        "\n",
        "#Grab the HTML of the CollectionBuilder page we will look at later\n",
        "#It will be put in a variable called response\n",
        "response = requests.get(\"https://elibtronic.github.io/AIL_Database/\")\n",
        "\n",
        "print(\"Page has been retrieved!\")"
      ],
      "metadata": {
        "id": "qI0TxFufuNHi"
      },
      "execution_count": null,
      "outputs": []
    },
    {
      "cell_type": "code",
      "source": [
        "#Prints the response code from the request\n",
        "#200 is successful request\n",
        "#List of codes: https://en.wikipedia.org/wiki/List_of_HTTP_status_codes\n",
        "print(response.status_code)"
      ],
      "metadata": {
        "id": "Bx6_aryfxKqN"
      },
      "execution_count": null,
      "outputs": []
    },
    {
      "cell_type": "code",
      "source": [
        "#Prints the HTML Headers\n",
        "#List of headers: https://en.wikipedia.org/wiki/List_of_HTTP_header_fields\n",
        "print(response.headers)"
      ],
      "metadata": {
        "id": "cxcp1NNTxYzs"
      },
      "execution_count": null,
      "outputs": []
    },
    {
      "cell_type": "code",
      "source": [
        "#Print the content of the webpage\n",
        "#This will spit out a bunch of unformated HTML text so be ready\n",
        "print(response.text)"
      ],
      "metadata": {
        "id": "-1X5Oh2zxZST"
      },
      "execution_count": null,
      "outputs": []
    },
    {
      "cell_type": "markdown",
      "source": [
        "##Total information from a CollectionBuilder site\n",
        "\n",
        "Now that we have learned to grab random webpages into Python we are going to move towards retrieving structured information. Instead of a random webpage we are going to grab information from an API.\n",
        "\n",
        "Further we are going to be working with structured data called JSON."
      ],
      "metadata": {
        "id": "NrPLH8JPZt8E"
      }
    },
    {
      "cell_type": "code",
      "execution_count": null,
      "metadata": {
        "id": "HwngkpbvRzF7"
      },
      "outputs": [],
      "source": [
        "#Our library to work with JSON\n",
        "import json\n",
        "\n",
        "#Our old friend pandas\n",
        "import pandas as pd"
      ]
    },
    {
      "cell_type": "markdown",
      "source": [
        "\n",
        "## Collection Builder\n",
        "\n",
        "CollectionBuilder is a great platform for turning a spreadsheet of infomration into a full fledged website. I use it for lots of different things, for example I create a [database](https://elibtronic.github.io/AIL_Database/) of readings for my other Library Juice class. Most importantly for us however is that CollectionBuilder also has an _API_ interface it creates for ever site. So you can look at the site dressed up as HTML, but also as data in a format called JSON.\n",
        "\n",
        "CollectionBuilder sites by default present links to several different JSON components of the site. For the form below I've added a link to the _Metadata_ JSON url for my site."
      ],
      "metadata": {
        "id": "j0xiaUpCuvWY"
      }
    },
    {
      "cell_type": "code",
      "source": [
        "# @title URL of JSON File for complete CollectionBuilder Metadata {\"run\":\"auto\",\"display-mode\":\"form\"}\n",
        "\n",
        "json_cb_url = \"https://elibtronic.github.io/AIL_Database/assets/data/metadata.json\" # @param {\"type\":\"string\",\"placeholder\":\"https://elibtronic.github.io/AIL_Database/assets/data/metadata.json\"}\n",
        "# @markdown (Click _Show Code_ to see everything that is going on here)\n",
        "\n",
        "response_cb = requests.get(json_cb_url)\n",
        "#all of the data from the sites\n",
        "total_cb_data = response_cb.json()\n",
        "#just the 'objects' indexed in the site\n",
        "objects_cb_data = total_cb_data['objects']\n",
        "print(\"Data fetched and JSON constructed!\")"
      ],
      "metadata": {
        "id": "dpz3IgSTThuS"
      },
      "execution_count": null,
      "outputs": []
    },
    {
      "cell_type": "markdown",
      "source": [
        "\n",
        "###Printing all items in a JSON object\n",
        "\n",
        "Run the next couple of cells to see all of the data used by the site in a nice pleasing output. You can open up the collection builders [data page](https://elibtronic.github.io/AIL_Database/data.html) in another tab to see the data represented in a webpage instead of plain text."
      ],
      "metadata": {
        "id": "SuQkerMVeClx"
      }
    },
    {
      "cell_type": "code",
      "source": [
        "#Will just print out the 'objects' in the JSON object, probably more useful\n",
        "#Don't worry if this looks like mush, we'll focus in on some exact data\n",
        "#in the upcoming sections\n",
        "print(json.dumps(objects_cb_data,indent=2))"
      ],
      "metadata": {
        "id": "GoiTqtlpXKC0"
      },
      "execution_count": null,
      "outputs": []
    },
    {
      "cell_type": "markdown",
      "source": [
        "###Picking a specific item in the JSON output\n",
        "\n",
        "We can use the skills we developed in the indexing section to select certain items from our JSON data. You can see that the data looks like a dictionary. It have a key and value.\n",
        "\n"
      ],
      "metadata": {
        "id": "7fICpbvsd_4w"
      }
    },
    {
      "cell_type": "code",
      "source": [
        "#The first JSON object in our object using the slice operator\n",
        "data_index = 0\n",
        "print(json.dumps(objects_cb_data[data_index],indent=2))"
      ],
      "metadata": {
        "id": "M2ljQyIgenil"
      },
      "execution_count": null,
      "outputs": []
    },
    {
      "cell_type": "code",
      "source": [
        "# All the keys in the first item using the slice operator\n",
        "for item in objects_cb_data[data_index].keys():\n",
        "  print(item)\n"
      ],
      "metadata": {
        "id": "J4tvwrMxXjJr"
      },
      "execution_count": null,
      "outputs": []
    },
    {
      "cell_type": "code",
      "source": [
        "#Print all the values in the first item using the slice operator\n",
        "for item in objects_cb_data[data_index].values():\n",
        "  print(item)"
      ],
      "metadata": {
        "id": "8ZEC_86mYv6V"
      },
      "execution_count": null,
      "outputs": []
    },
    {
      "cell_type": "markdown",
      "source": [
        "**Q4** Print the contents of the 10th item in the JSON data in the cell below"
      ],
      "metadata": {
        "id": "hhzhzzNI_V_v"
      }
    },
    {
      "cell_type": "code",
      "source": [
        "#Q4\n",
        "data_index =\n",
        "print(json.dumps(objects_cb_data[data_index],indent=2))"
      ],
      "metadata": {
        "id": "vyEAAKia_fE2"
      },
      "execution_count": null,
      "outputs": []
    },
    {
      "cell_type": "markdown",
      "source": [
        "**Q5**\n",
        "\n",
        "Run the cell below and try to grab a random item from the data....\n",
        "\n"
      ],
      "metadata": {
        "id": "AnSXguY25APN"
      }
    },
    {
      "cell_type": "code",
      "source": [
        "#Q5\n",
        "\n",
        "#we pull in a function from the random library\n",
        "from random import randrange\n",
        "#we create a random integer somewhere in the range of 0 to length of objects\n",
        "random_entry = randrange(len(objects_cb_data))\n",
        "#Now we print the JSON data at that random index\n",
        "print(json.dumps(objects_cb_data[random_entry],indent=2))"
      ],
      "metadata": {
        "id": "Uh6iMxWq5YvW"
      },
      "execution_count": null,
      "outputs": []
    },
    {
      "cell_type": "markdown",
      "source": [
        "**Q5 continued**\n",
        "\n",
        "In the cell below copy and paste the link that will take you to the web display of the random item displayed above"
      ],
      "metadata": {
        "id": "IZChNUyl5mjS"
      }
    },
    {
      "cell_type": "code",
      "source": [
        "#Q5 continued\n",
        "reference_url = \"\"\n",
        "\n",
        "print(\"You can view the web display of this item here: \" + reference_url)"
      ],
      "metadata": {
        "id": "U59JF4Vp6GG1"
      },
      "execution_count": null,
      "outputs": []
    },
    {
      "cell_type": "markdown",
      "source": [
        "\n",
        "##Subject information from a CollectionBuilder site\n",
        "\n",
        "One of the API _end points_ from CollectionBuilder is a listing of the subjects in the dataset. Up until this point we were looking at the completed list of metadata in the site.\n",
        "\n",
        "The following few cells look just at the subject JSON. Try looking at the [Subjects JSON URL](https://elibtronic.github.io/AIL_Database/assets/data/subjects.json) using just your browser"
      ],
      "metadata": {
        "id": "Qy7jL_MGZstj"
      }
    },
    {
      "cell_type": "code",
      "source": [
        "# @title URL of JSON file for subjects only in CollectionBuilder {\"run\":\"auto\",\"display-mode\":\"form\"}\n",
        "\n",
        "json_subjects_url = \"https://elibtronic.github.io/AIL_Database/assets/data/subjects.json\" # @param {\"type\":\"string\",\"placeholder\":\"https://elibtronic.github.io/AIL_Database/assets/data/subjects.json\"}\n",
        "# @markdown Feel free to change this to a different Collection Builder Subject JSON URL. (Heads up: You'll be doing this for your homework this week)\n",
        "\n",
        "\n",
        "response_subjects = requests.get(json_subjects_url)\n",
        "total_subject_data = response_subjects.json()\n",
        "subject_cb_data = total_subject_data['subjects']\n"
      ],
      "metadata": {
        "id": "Xh4-UmfQZ4ix"
      },
      "execution_count": null,
      "outputs": []
    },
    {
      "cell_type": "code",
      "source": [
        "# print just the first item in the subjects JSON object\n",
        "subject_index = 0\n",
        "print(json.dumps(subject_cb_data[subject_index],indent=2))"
      ],
      "metadata": {
        "id": "lrmjX3AObpOq"
      },
      "execution_count": null,
      "outputs": []
    },
    {
      "cell_type": "markdown",
      "source": [
        "\n",
        "## Subject Counts\n",
        "\n",
        "We can now grab all of the subject names and corresponding counts how how often they were used and print them to the screen. We'll be using a Python `dictionary` as part of this work."
      ],
      "metadata": {
        "id": "T73a0jCyy7IY"
      }
    },
    {
      "cell_type": "code",
      "source": [
        "#A dictionary variable that will hold our key value combination of\n",
        "#subject name and count\n",
        "subject_frequency = {}\n",
        "\n",
        "#Change JSON data into a dictionary\n",
        "for item in subject_cb_data:\n",
        "  subject_frequency[item['subject']] = item['count']\n",
        "\n",
        "\n",
        "for key,value in subject_frequency.items():\n",
        "  print(\"Subject label: \"+ str(key) + \", shows up \" + str(value) + \" times in the data\")\n"
      ],
      "metadata": {
        "id": "6YFNrYnTaXTj"
      },
      "execution_count": null,
      "outputs": []
    },
    {
      "cell_type": "markdown",
      "source": [
        "**Q6** Which subject shows up the most in the data?"
      ],
      "metadata": {
        "id": "74liL2zEA2Rh"
      }
    },
    {
      "cell_type": "code",
      "source": [
        "#Q6\n",
        "most_subject = \"\"\n",
        "print(\"The subject that comes up the most is \" + most_subject)"
      ],
      "metadata": {
        "id": "ihCWL71ZA9aH"
      },
      "execution_count": null,
      "outputs": []
    },
    {
      "cell_type": "markdown",
      "source": [
        "\n",
        "## Moral of the story\n",
        "\n",
        "JSON is just one way to represent data that has keys and values. So, we can put JSON data into a pandas dataframe just like a spreadsheet. Run the cells below the see a couple of dataframes of the information from this site.\n",
        "\n",
        "In the next cell we try to put each JSON entry into a new record in our dataframe. It doesn't look that nice."
      ],
      "metadata": {
        "id": "SYs0LXsEe8tZ"
      }
    },
    {
      "cell_type": "code",
      "source": [
        "#That doesn't look nice!\n",
        "subjects_df = pd.read_json(json_cb_url)\n",
        "subjects_df"
      ],
      "metadata": {
        "id": "a8AK6idefZ7Y"
      },
      "execution_count": null,
      "outputs": []
    },
    {
      "cell_type": "markdown",
      "source": [
        "\n",
        "## 'Normalizing' first\n",
        "\n",
        "We can normalize the JSON first before we try to make it into a dataframe. That way Pandas will know that the key value combination needs to be put in the column and the row for each piece of data.\n",
        "\n",
        "Run the next cell to see the data changed into a _proper_ dataframe."
      ],
      "metadata": {
        "id": "41ZdLrNrCA7R"
      }
    },
    {
      "cell_type": "code",
      "source": [
        "#We'll normalize to get Pandas to try to 'shape' the data\n",
        "normalized_df = pd.json_normalize(subjects_df['objects'])\n",
        "normalized_df"
      ],
      "metadata": {
        "id": "tom3sG7HgkIF"
      },
      "execution_count": null,
      "outputs": []
    },
    {
      "cell_type": "markdown",
      "source": [
        "\n",
        "## Homework Time\n",
        "\n",
        "Head over to the homework to analyze a Collection Builder site of your choosing!"
      ],
      "metadata": {
        "id": "WHRyQc9z1C8p"
      }
    }
  ]
}