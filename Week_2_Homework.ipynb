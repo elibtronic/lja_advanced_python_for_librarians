{
  "nbformat": 4,
  "nbformat_minor": 0,
  "metadata": {
    "colab": {
      "provenance": [],
      "authorship_tag": "ABX9TyPJtpwgNVjzIfdpJNp5lAIe"
    },
    "kernelspec": {
      "name": "python3",
      "display_name": "Python 3"
    },
    "language_info": {
      "name": "python"
    }
  },
  "cells": [
    {
      "cell_type": "markdown",
      "source": [
        "# Week 2 Homework\n",
        "\n",
        "\n",
        "\n",
        "We are going to look at some questions that will help you get more comfortable with getting values out of JSON / API variables. Just like with the workalong you might need to restart the session after you first fun the next cell."
      ],
      "metadata": {
        "id": "3rtVAa608NJ0"
      }
    },
    {
      "cell_type": "code",
      "execution_count": null,
      "metadata": {
        "id": "w7mBhKf38Hz0"
      },
      "outputs": [],
      "source": [
        "#install the library\n",
        "!pip install crossrefapi\n",
        "!pip install orcid\n",
        "\n",
        "import orcid\n",
        "from crossref.restful import Works\n",
        "\n",
        "print(\"Ready to Proceed!\")"
      ]
    },
    {
      "cell_type": "markdown",
      "source": [
        "## API Keys for ORCID\n",
        "\n",
        "Simply copy in the same `Client_ID` and `Client_Secret` that you created for the Workalong notebook."
      ],
      "metadata": {
        "id": "reZaJKNJEbJC"
      }
    },
    {
      "cell_type": "code",
      "source": [
        "#ORCID API details\n",
        "#Be sure to fill these in\n",
        "Client_ID = \"\"\n",
        "Client_Secret = \"\""
      ],
      "metadata": {
        "id": "G7aQbX2zzc_0"
      },
      "execution_count": null,
      "outputs": []
    },
    {
      "cell_type": "markdown",
      "source": [
        "## CrossRef Questions\n",
        "\n",
        "Run the next cell to load-up an item from the crossref API and display it as JSON on the screen."
      ],
      "metadata": {
        "id": "01MSJqsCzuj1"
      }
    },
    {
      "cell_type": "code",
      "source": [
        "works = Works()\n",
        "item = works.doi(\"10.33137/cjal-rcbu.v5.29652\")\n",
        "item"
      ],
      "metadata": {
        "id": "J9ChckqM0B7h"
      },
      "execution_count": null,
      "outputs": []
    },
    {
      "cell_type": "markdown",
      "source": [
        "**H1** Print the abstract of this item"
      ],
      "metadata": {
        "id": "--sQE52Ozxjs"
      }
    },
    {
      "cell_type": "code",
      "source": [
        "item[]"
      ],
      "metadata": {
        "id": "DwZpTrBwzzKL"
      },
      "execution_count": null,
      "outputs": []
    },
    {
      "cell_type": "markdown",
      "source": [
        "**H2** Print the license of this item"
      ],
      "metadata": {
        "id": "qRi1LccQzzjL"
      }
    },
    {
      "cell_type": "code",
      "source": [
        "item[]"
      ],
      "metadata": {
        "id": "S_zRpxQN0DOZ"
      },
      "execution_count": null,
      "outputs": []
    },
    {
      "cell_type": "markdown",
      "source": [
        "**H3** Since this piece is co-authored, there are two authors in the list in the JSON object. Complete the code below to print the details of the authors to the screen. You'll need to complete line, 3, 4, & 5."
      ],
      "metadata": {
        "id": "lcJToq0Az9Ej"
      }
    },
    {
      "cell_type": "code",
      "source": [
        "authors = item['author']\n",
        "for author in authors:\n",
        "  print(\"First Name of author: \", author[''])\n",
        "  print(\"Last Name of author: \", author[''])\n",
        "  print(\"ORCID of author: \",author[''])\n",
        "  print(\"---\")"
      ],
      "metadata": {
        "id": "C1hLoXWa0D4W"
      },
      "execution_count": null,
      "outputs": []
    },
    {
      "cell_type": "markdown",
      "source": [
        "## ORCID Questions\n",
        "\n",
        "Run the next cell to load-up an tiem from the ORCID API and display it as JSON on the screen. This time we are looking not at my biographic details."
      ],
      "metadata": {
        "id": "N2v7R4cn0Fye"
      }
    },
    {
      "cell_type": "code",
      "source": [
        "orcid_api = api = orcid.PublicAPI(Client_ID, Client_Secret, sandbox=False)\n",
        "search_token = api.get_search_token_from_orcid()\n",
        "\n",
        "orcid_result = orcid_api.read_record_public(\"0000-0001-9229-8569\",'person', search_token)\n",
        "orcid_result"
      ],
      "metadata": {
        "id": "pP5u6wVN0QKT"
      },
      "execution_count": null,
      "outputs": []
    },
    {
      "cell_type": "markdown",
      "source": [
        "\n",
        "**H4** Print the biography that is in this record"
      ],
      "metadata": {
        "id": "o7iPMPNv0Ql1"
      }
    },
    {
      "cell_type": "code",
      "source": [
        "orcid_result['']"
      ],
      "metadata": {
        "id": "aaEtS6bv0UQ6"
      },
      "execution_count": null,
      "outputs": []
    },
    {
      "cell_type": "markdown",
      "source": [
        "**H5** ORCID records allow you to add a variety of different links to your 'about' section. These are called `researcher-urls`. Complete the code cell below to print out the label and location of the URLs in this ORCID record. You just need to modify line 6."
      ],
      "metadata": {
        "id": "WKlAWg8_0UlJ"
      }
    },
    {
      "cell_type": "code",
      "source": [
        "urls = orcid_result['researcher-urls']\n",
        "\n",
        "for url in urls['researcher-url']:\n",
        "  url_name = url['url-name']\n",
        "  url_location = url['url']['value']\n",
        "  print(\"URL Name: \" +  + \" URL Location: \" + )"
      ],
      "metadata": {
        "id": "-9YY_XMI0WLR"
      },
      "execution_count": null,
      "outputs": []
    },
    {
      "cell_type": "markdown",
      "source": [
        "**H6** When was the last date that this record was modified? (The result will be a time stamp, not a formatted date)"
      ],
      "metadata": {
        "id": "Myyx0lVB0WpE"
      }
    },
    {
      "cell_type": "code",
      "source": [
        "orcid_result[]"
      ],
      "metadata": {
        "id": "LxzdFZIu0f6X"
      },
      "execution_count": null,
      "outputs": []
    },
    {
      "cell_type": "markdown",
      "source": [
        "## Your very own choice of DOI"
      ],
      "metadata": {
        "id": "DUq_HnTP0Ytz"
      }
    },
    {
      "cell_type": "markdown",
      "source": [
        "**H7** Add in the DOI of some item that interests you in the following cell to print it to the screen as JSON. You'll need to modify line 1."
      ],
      "metadata": {
        "id": "KUmE0USW0dUM"
      }
    },
    {
      "cell_type": "code",
      "source": [
        "my_doi = \"\"\n",
        "my_item = works.doi(my_doi)\n",
        "print(my_item)"
      ],
      "metadata": {
        "id": "Hq5_KmMf0okw"
      },
      "execution_count": null,
      "outputs": []
    },
    {
      "cell_type": "markdown",
      "source": [
        "**H8** Print a field from the record you identifed in **H7** (Or loop through a list of values and print them all to the screen).\n",
        "\n",
        "Describe what you are doing in a comment in your code."
      ],
      "metadata": {
        "id": "7AqJR1jI0o6L"
      }
    },
    {
      "cell_type": "code",
      "source": [
        "#My code does the following...\n",
        "#\n",
        "#\n",
        "#\n",
        "\n",
        "print(my_item[])"
      ],
      "metadata": {
        "id": "Sc_IjELl06_6"
      },
      "execution_count": null,
      "outputs": []
    },
    {
      "cell_type": "markdown",
      "source": [
        "\n",
        "## All Done!\n",
        "\n",
        "Congrats you are finished with this week's work. Don't forget to click the `Share` button above and enter `libraryjuicepresspython@gmail.com` so I can get a shared copy of your work."
      ],
      "metadata": {
        "id": "bYP0tH338SWY"
      }
    }
  ]
}