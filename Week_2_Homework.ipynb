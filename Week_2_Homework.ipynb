{
  "nbformat": 4,
  "nbformat_minor": 0,
  "metadata": {
    "colab": {
      "provenance": [],
      "authorship_tag": "ABX9TyMYJ4EWFRnBCKBSOQ3IrOip"
    },
    "kernelspec": {
      "name": "python3",
      "display_name": "Python 3"
    },
    "language_info": {
      "name": "python"
    }
  },
  "cells": [
    {
      "cell_type": "markdown",
      "source": [
        "# Week 2 Homework"
      ],
      "metadata": {
        "id": "3rtVAa608NJ0"
      }
    },
    {
      "cell_type": "code",
      "execution_count": null,
      "metadata": {
        "id": "w7mBhKf38Hz0"
      },
      "outputs": [],
      "source": []
    },
    {
      "cell_type": "markdown",
      "source": [
        "\n",
        "## All Done!\n",
        "\n",
        "Congrats you are finished with this week's work. Don't forget to click the `Share` button above and enter `libraryjuicepresspython@gmail.com` so I can get a shared copy of your work."
      ],
      "metadata": {
        "id": "bYP0tH338SWY"
      }
    }
  ]
}