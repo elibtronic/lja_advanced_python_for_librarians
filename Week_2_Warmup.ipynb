{
  "nbformat": 4,
  "nbformat_minor": 0,
  "metadata": {
    "colab": {
      "provenance": [],
      "authorship_tag": "ABX9TyOimUxlcWflWlvTEO0Dmcsg"
    },
    "kernelspec": {
      "name": "python3",
      "display_name": "Python 3"
    },
    "language_info": {
      "name": "python"
    }
  },
  "cells": [
    {
      "cell_type": "markdown",
      "source": [
        "# Week 2 Warmup Activity\n",
        "\n",
        "Let's build up some more knowledge about the Google Colab environment by taking a look at how we can connect to other Google resources"
      ],
      "metadata": {
        "id": "l9IuFEcKoImm"
      }
    },
    {
      "cell_type": "markdown",
      "source": [
        "# Connecting to Google Drive!\n",
        "\n",
        "One of the strengths of Colab is that since it is a Google product it connects to your Google Drive. That way you can save data that you generate in your notebooks directly to drive. It just takes a few seconds to sync you changes.\n",
        "\n",
        "To being create a folder called `LibraryJuicePython` in your Google Drive. Spelt just like I have it here, in the root, or lowest level, of your drive.\n",
        "\n",
        "Once you do that you can run the next code cell to see the contents of your Google Drive displayed here. You will be prompted to authorize the connection between Colab and Drive."
      ],
      "metadata": {
        "id": "m_tRk_Zktdr2"
      }
    },
    {
      "cell_type": "code",
      "execution_count": null,
      "metadata": {
        "id": "aT822U9QoAZs"
      },
      "outputs": [],
      "source": [
        "from google.colab import drive\n",
        "\n",
        "drive.mount('/content/gdrive')\n"
      ]
    },
    {
      "cell_type": "markdown",
      "source": [
        "\n",
        "## Look at your files\n",
        "\n",
        "You can click on the folder icon in the column in the left to see your files in a graphical form.\n",
        "\n",
        "OR\n",
        "\n",
        "run the following cells to see it via shell commands"
      ],
      "metadata": {
        "id": "jJ0uLiPZtqGp"
      }
    },
    {
      "cell_type": "code",
      "source": [
        "#Will pring the contents of your 'root' Google Drive, ie all files\n",
        "!ls /content/gdrive/MyDrive\n"
      ],
      "metadata": {
        "id": "LzeQrMZhtpQQ"
      },
      "execution_count": null,
      "outputs": []
    },
    {
      "cell_type": "code",
      "source": [
        "#will print the contents of your LibraryJuicePython folder\n",
        "!ls /content/gdrive/MyDrive/LibraryJuicePython"
      ],
      "metadata": {
        "id": "Cgyksswwtv84"
      },
      "execution_count": null,
      "outputs": []
    },
    {
      "cell_type": "markdown",
      "source": [
        "\n",
        "# Lots more\n",
        "\n",
        "I'll encourage you to explore all the different ways you can pull content out of your Google Drive and all the way you can push data into your Google drive. In the subsequent weeks we'll be using the `LibraryJuicePython` folder to store different things we work on."
      ],
      "metadata": {
        "id": "RuR9RW6Pt003"
      }
    }
  ]
}