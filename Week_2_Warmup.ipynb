{
  "nbformat": 4,
  "nbformat_minor": 0,
  "metadata": {
    "colab": {
      "provenance": [],
      "authorship_tag": "ABX9TyN/CxvkEkNsjsH6eZZUZmLN"
    },
    "kernelspec": {
      "name": "python3",
      "display_name": "Python 3"
    },
    "language_info": {
      "name": "python"
    }
  },
  "cells": [
    {
      "cell_type": "markdown",
      "source": [
        "# Week 2 Warmup Activity\n",
        "\n",
        "(Be sure to Copy to Drive first)\n",
        "\n",
        "Let's build up some more knowledge about the Google Colab environment by taking a look at how we can connect to other Google resources"
      ],
      "metadata": {
        "id": "l9IuFEcKoImm"
      }
    },
    {
      "cell_type": "markdown",
      "source": [
        "# Connecting to Google Drive!\n",
        "\n",
        "One of the strengths of Colab is that since it is a Google product it connects to your Google Drive. That way you can save data that you generate in your notebooks directly to Drive. It just takes a few seconds to sync you changes.\n",
        "\n",
        "To begin create a folder called `LibraryJuicePython` in your Google Drive. Spelt just like I have it here, in the root, or lowest level, of your [drive](https://drive.google.com).\n",
        "\n",
        "Once you do that you can run the next code cell to see the contents of your Google Drive displayed here. You will be prompted to authorize the connection between Colab and Drive. This will probably look like 3 or 4 pop-ups that you'll need to specifically click _Continue_ or _Authorize_ on."
      ],
      "metadata": {
        "id": "m_tRk_Zktdr2"
      }
    },
    {
      "cell_type": "code",
      "execution_count": null,
      "metadata": {
        "id": "aT822U9QoAZs"
      },
      "outputs": [],
      "source": [
        "#Colab has a special library just for working with file on google drive\n",
        "from google.colab import drive\n",
        "\n",
        "#Our old pal Pandas\n",
        "import pandas as pd\n",
        "\n",
        "#Our other old pal Matplotlib\n",
        "import matplotlib.pyplot as plt\n",
        "\n",
        "drive.mount('/content/gdrive')\n"
      ]
    },
    {
      "cell_type": "markdown",
      "source": [
        "\n",
        "## Look at your files\n",
        "\n",
        "You can click on the folder icon in the column in the left to see your files in a graphical form.\n",
        "\n",
        "OR\n",
        "\n",
        "run the following cells to see it via shell commands"
      ],
      "metadata": {
        "id": "jJ0uLiPZtqGp"
      }
    },
    {
      "cell_type": "code",
      "source": [
        "#Will print the contents of your 'root' Google Drive, ie all files\n",
        "!ls /content/gdrive/MyDrive\n"
      ],
      "metadata": {
        "id": "LzeQrMZhtpQQ"
      },
      "execution_count": null,
      "outputs": []
    },
    {
      "cell_type": "code",
      "source": [
        "#will print the contents of your LibraryJuicePython folder\n",
        "!ls /content/gdrive/MyDrive/LibraryJuicePython"
      ],
      "metadata": {
        "id": "Cgyksswwtv84"
      },
      "execution_count": null,
      "outputs": []
    },
    {
      "cell_type": "markdown",
      "source": [
        "\n",
        "## Adding a file\n",
        "\n",
        "The code cell above will probably print nothing. You are displaying the contents of an empty folder after all.\n",
        "\n",
        "Download this [CSV file](https://raw.githubusercontent.com/elibtronic/lja_datasets/refs/heads/master/adv_week2_warmup_data.csv). Once you open up this link you'll see the CSV file in displayed in your browser window. Right Click and _Save As_ using the file name it suggests.\n",
        "\n",
        "Now place that file in the folder we just created via your Google Drive Web [Interface](https://drive.google.com) and try to run the next cell a few times until it shows you the file in the display. You'll find that it takes a few seconds/minutes for drive to sync with your Python environment.\n",
        "\n",
        "\n",
        "### CSV File Details\n",
        "\n",
        "I was using [Google Dataset Search](https://datasetsearch.research.google.com/) and came across some data about [usage of libraries within Ontario](https://open.canada.ca/data/en/dataset/363fff31-6a07-41eb-9922-e9b64192b08b). (Where I live). I created a subset of the 2023 data so it wouldn't be too much information to look at. The full [Data Dictionary](https://open.canada.ca/data/en/dataset/363fff31-6a07-41eb-9922-e9b64192b08b/resource/acdf2c77-7698-4602-a91a-3f4afed9a597) is available to look at if you'd like. It lists over 300! columns.\n"
      ],
      "metadata": {
        "id": "wcYcjTDvaABD"
      }
    },
    {
      "cell_type": "code",
      "source": [
        "#will print the contents of your LibraryJuicePython folder\n",
        "#hopefully this time it will show the file\n",
        "!ls /content/gdrive/MyDrive/LibraryJuicePython"
      ],
      "metadata": {
        "id": "JZl94equatwq"
      },
      "execution_count": null,
      "outputs": []
    },
    {
      "cell_type": "markdown",
      "source": [
        "#Files using Python\n",
        "\n",
        "We can use magic commands (more on that in the week 3 warmup) or we can use the python library [glob](https://docs.python.org/3/library/glob.html) to work with files using a familar code cell. Below demonstrates how this works.\n",
        "\n",
        "We won't spend too much time working with files directly like this in the course of this class but I wanted to let you that this type of stuff is possible."
      ],
      "metadata": {
        "id": "bmCWAmXMSpLA"
      }
    },
    {
      "cell_type": "code",
      "source": [
        "#We'll import our new library\n",
        "import glob\n",
        "\n",
        "#list all the files in our directory with glob\n",
        "for file in glob.glob(\"/content/gdrive/MyDrive/LibraryJuicePython/*\"):\n",
        "  print(file)"
      ],
      "metadata": {
        "id": "6b-uiHkzStKU"
      },
      "execution_count": null,
      "outputs": []
    },
    {
      "cell_type": "markdown",
      "source": [
        "## Loading the CSV\n",
        "\n",
        "Now that we have the CSV file in our drive we can use the pandas library to open it up and turn it into a dataframe! Pandas has a build in function that does just that. Run the next frame to see this actions.\n",
        "\n"
      ],
      "metadata": {
        "id": "YlBTaVMtb90A"
      }
    },
    {
      "cell_type": "code",
      "source": [
        "ontario_libraries = pd.read_csv('/content/gdrive/MyDrive/LibraryJuicePython/adv_week2_warmup_data.csv')\n",
        "ontario_libraries"
      ],
      "metadata": {
        "id": "BBiycXHmeO9V"
      },
      "execution_count": null,
      "outputs": []
    },
    {
      "cell_type": "markdown",
      "source": [
        "## The pipeline!\n",
        "\n",
        "This workflow of putting the CSV file into your Google Drive and then opening it up as a dataframe is what we can call a pipeline. You can now get to the work of analyzing our dataset.\n",
        "\n",
        "The next cell will draw a histogram using our pal matplotlib."
      ],
      "metadata": {
        "id": "Y_KS7IVneRH9"
      }
    },
    {
      "cell_type": "code",
      "source": [
        "#A basic historgram showing the distribution of library card holders\n",
        "\n",
        "plt.hist(ontario_libraries['No_of_Active_Library_Cardholders'],20)\n",
        "plt.title(\"Distribution of Library Card Holders\")\n",
        "plt.xlabel(\"Number of Library Card Holders\")\n",
        "plt.ylabel(\"Number of Libraries\")\n",
        "plt.show()"
      ],
      "metadata": {
        "id": "N2eEYWzvg_6w"
      },
      "execution_count": null,
      "outputs": []
    },
    {
      "cell_type": "markdown",
      "source": [
        "# What else?\n",
        "\n",
        "Feel free to add more cells to the notebooks to explore the Library data using the skills you developed in week 2 & week 3 of the original Python for Librarians class"
      ],
      "metadata": {
        "id": "Q08uEjTJhu-6"
      }
    },
    {
      "cell_type": "code",
      "source": [
        "ontario_libraries"
      ],
      "metadata": {
        "id": "aI60njPKh6NJ"
      },
      "execution_count": null,
      "outputs": []
    },
    {
      "cell_type": "markdown",
      "source": [
        "\n",
        "# Lots more\n",
        "\n",
        "I'll encourage you to explore all the different ways you can pull content out of your Google Drive and all the way you can push data into your Google drive. In the subsequent weeks we'll be using the `LibraryJuicePython` folder to store different things we work on."
      ],
      "metadata": {
        "id": "RuR9RW6Pt003"
      }
    }
  ]
}