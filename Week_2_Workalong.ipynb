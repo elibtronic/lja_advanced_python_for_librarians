{
  "nbformat": 4,
  "nbformat_minor": 0,
  "metadata": {
    "colab": {
      "provenance": [],
      "authorship_tag": "ABX9TyOapiiQxsXu+VFGJqwWoVfc",
      "include_colab_link": true
    },
    "kernelspec": {
      "name": "python3",
      "display_name": "Python 3"
    },
    "language_info": {
      "name": "python"
    }
  },
  "cells": [
    {
      "cell_type": "markdown",
      "metadata": {
        "id": "view-in-github",
        "colab_type": "text"
      },
      "source": [
        "<a href=\"https://colab.research.google.com/github/elibtronic/lja_advanced_python_for_librarians/blob/main/Week_2_Workalong.ipynb\" target=\"_parent\"><img src=\"https://colab.research.google.com/assets/colab-badge.svg\" alt=\"Open In Colab\"/></a>"
      ]
    },
    {
      "cell_type": "markdown",
      "source": [
        "\n",
        "#Week 2 - More API work\n",
        "\n",
        "This will build on content introduced in week 1. Except the focus will be on creating new data from mashing up different APIs sources together.\n",
        "\n",
        "We are going to introduce two new ideas in this week\n",
        "- API keys\n",
        "- Python Libraries instead of requests"
      ],
      "metadata": {
        "id": "wUqcp4dYRbO9"
      }
    },
    {
      "cell_type": "markdown",
      "source": [
        "\n",
        "##Scopus API Key\n",
        "\n",
        "Before beginning we will need to request an Elsevier Developer Portal [API key](https://dev.elsevier.com/). The video explained the basics of this"
      ],
      "metadata": {
        "id": "-cwGT2PtRj65"
      }
    },
    {
      "cell_type": "code",
      "execution_count": 1,
      "metadata": {
        "colab": {
          "base_uri": "https://localhost:8080/"
        },
        "id": "MEvyel7jRZ_D",
        "outputId": "717317b3-9b04-4519-e7f3-685e0bbd1e54"
      },
      "outputs": [
        {
          "output_type": "stream",
          "name": "stdout",
          "text": [
            "API Key loaded!\n"
          ]
        }
      ],
      "source": [
        "# @title API Key {\"run\":\"auto\",\"vertical-output\":true}\n",
        "api_key = \"api-key\" # @param {\"type\":\"string\",\"placeholder\":\"api-key\"}\n",
        "\n",
        "print(\"API Key loaded!\")\n"
      ]
    },
    {
      "cell_type": "markdown",
      "source": [
        "## Scopus Python Library\n",
        "\n",
        "We will be using the [pybibliometics](https://pybliometrics.readthedocs.io/en/stable/) library. We'll first install and import this.\n"
      ],
      "metadata": {
        "id": "fphQ5lseXz23"
      }
    },
    {
      "cell_type": "code",
      "source": [
        "!pip install pybliometrics\n",
        "import pybliometrics\n",
        "print(\"Ready to proceed\")\n"
      ],
      "metadata": {
        "id": "zEWeqix7SgAh"
      },
      "execution_count": null,
      "outputs": []
    },
    {
      "cell_type": "markdown",
      "source": [
        "\n",
        "Now we'll use this library to grab information from Scopus"
      ],
      "metadata": {
        "id": "K3XGWasAYBfA"
      }
    },
    {
      "cell_type": "code",
      "source": [
        "pybliometrics.scopus.init()"
      ],
      "metadata": {
        "id": "SjtYE_L0X_d2"
      },
      "execution_count": null,
      "outputs": []
    }
  ]
}