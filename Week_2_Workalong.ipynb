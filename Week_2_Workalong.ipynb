{
  "nbformat": 4,
  "nbformat_minor": 0,
  "metadata": {
    "colab": {
      "provenance": [],
      "authorship_tag": "ABX9TyP6vb14lj/EwrPvMVTbxEmT"
    },
    "kernelspec": {
      "name": "python3",
      "display_name": "Python 3"
    },
    "language_info": {
      "name": "python"
    }
  },
  "cells": [
    {
      "cell_type": "markdown",
      "source": [
        "\n",
        "#Week 2 - Manipulating Structured Data\n",
        "\n",
        "(Be sure to Copy to Drive first)\n",
        "\n",
        "This will build on content introduced in week 1. In week 1 we learned that information can be presented on the web in HTML (ie, with formatting and graphics) or as data that can be read programmatically via Python through an _API_ (Application Program Interface).\n",
        "\n",
        "This week we will build on what we learned by creating a dataset from a few different APIs.\n"
      ],
      "metadata": {
        "id": "wUqcp4dYRbO9"
      }
    },
    {
      "cell_type": "markdown",
      "source": [
        "# CrossRef\n",
        "\n",
        "CrossRef is one of the organizations that product DOIs. These are the unique serial numbers that get added to published works. I think the biggest advantage to DOIs is that they allow us to get to full text of items even when URLs change for publisher websites. The other great thing is that CrossRef provides a bunch of other metadata alongside the URL to the full-text.\n",
        "\n",
        "We'll grab information from the CrossRef API using a Python library called [crossrefapi](https://github.com/fabiobatalha/crossrefapi)"
      ],
      "metadata": {
        "id": "xeE8GduVnnUx"
      }
    },
    {
      "cell_type": "markdown",
      "source": [
        "\n",
        "## CrossRef via the Web\n",
        "\n",
        "Head over to the [web search](https://search.crossref.org/) for CrossRef and experiment with some searches. You'll see that there is a lot of different fields in the data."
      ],
      "metadata": {
        "id": "0Qy71gh_xAFc"
      }
    },
    {
      "cell_type": "markdown",
      "source": [
        "\n",
        "# CrossRef via an API\n",
        "\n",
        "We can interact with CrossRef via an API as well. This will just return data in a way that can be treated like a JSON variable."
      ],
      "metadata": {
        "id": "FZmoYfjIxbfG"
      }
    },
    {
      "cell_type": "markdown",
      "source": [
        "\n",
        "# One item two way\n",
        "\n",
        "To really highlight the difference between the web view and the API check out these two links for a piece I wrote about data analysis:\n",
        "\n",
        "- [https://api.crossref.org/works/10.5334/johd.109](https://api.crossref.org/works/10.5334/johd.109)\n",
        "\n",
        "\n",
        "- [https://doi.org/10.5334/johd.109](https://doi.org/10.5334/johd.109)\n",
        "\n",
        "Click through on both to see what happens"
      ],
      "metadata": {
        "id": "3CQ3yhO5yuQ4"
      }
    },
    {
      "cell_type": "markdown",
      "source": [
        "# CrossRef via API and Python\n",
        "\n",
        "In order to make working with the API more manageable we'll use a Python library called [crossrefapi](https://github.com/fabiobatalha/crossrefapi) that will allow us to use Python variables instead of manipulating JSON directly. Since this library is not part of the usual Python deployment we will need to install it specifically. Details about installing libraries are in the week 3 warmup activity in case you are curious\n",
        "\n",
        "When you first run this code cell it might ask you to 'Restart' by clicking a button. Please do that, and re-run the cell. This types of things sometimes happen when you start including new libraries in the Colab environment."
      ],
      "metadata": {
        "id": "J7c93Pznypnn"
      }
    },
    {
      "cell_type": "code",
      "source": [
        "#install the library\n",
        "!pip install crossrefapi\n",
        "\n",
        "\n",
        "#Load in our other usual libraries\n",
        "import pandas as pd\n",
        "from google.colab import drive\n",
        "import numpy as np\n",
        "\n",
        "print(\"Ready to proceed!\")"
      ],
      "metadata": {
        "id": "V_QF7H2joZdY"
      },
      "execution_count": null,
      "outputs": []
    },
    {
      "cell_type": "markdown",
      "source": [
        "With the library installed we will now query the API to look at the same article we saw above."
      ],
      "metadata": {
        "id": "ccCLzfLEo-RB"
      }
    },
    {
      "cell_type": "code",
      "source": [
        "from crossref.restful import Works\n",
        "works = Works()\n",
        "item = works.doi(\"10.5334/johd.109\")"
      ],
      "metadata": {
        "id": "LbdSPWRAoldD"
      },
      "execution_count": null,
      "outputs": []
    },
    {
      "cell_type": "markdown",
      "source": [
        "Run the next cell to see how the information looks a lot like JSON."
      ],
      "metadata": {
        "id": "sChSJorpJCF5"
      }
    },
    {
      "cell_type": "code",
      "source": [
        "item"
      ],
      "metadata": {
        "id": "NXs9N7S5JAIV"
      },
      "execution_count": null,
      "outputs": []
    },
    {
      "cell_type": "markdown",
      "source": [
        "\n",
        "# Parts of the data\n",
        "\n",
        "By doing a key lookup, we can find the associated value"
      ],
      "metadata": {
        "id": "dULMjFB6JQhC"
      }
    },
    {
      "cell_type": "code",
      "source": [
        "item['title']"
      ],
      "metadata": {
        "id": "LQfjqIpTJamp"
      },
      "execution_count": null,
      "outputs": []
    },
    {
      "cell_type": "markdown",
      "source": [
        "**Q1** Print the ISSN that the article is from"
      ],
      "metadata": {
        "id": "JAWGRqxQJhv2"
      }
    },
    {
      "cell_type": "code",
      "source": [
        "#Q1\n",
        "item[]"
      ],
      "metadata": {
        "id": "USNS3fpsJl92"
      },
      "execution_count": null,
      "outputs": []
    },
    {
      "cell_type": "markdown",
      "source": [
        "**Q2** Print the number of references this article has"
      ],
      "metadata": {
        "id": "gHTvJ7EBJpGw"
      }
    },
    {
      "cell_type": "code",
      "source": [
        "#Q2\n",
        "item[]"
      ],
      "metadata": {
        "id": "LY9ykvCtJ27O"
      },
      "execution_count": null,
      "outputs": []
    },
    {
      "cell_type": "markdown",
      "source": [
        "**Q3** Print the volume that this article is from"
      ],
      "metadata": {
        "id": "eGAaTW7cJ4v1"
      }
    },
    {
      "cell_type": "code",
      "source": [
        "#Q3\n",
        "item[]"
      ],
      "metadata": {
        "id": "NrvKWlZaKCnM"
      },
      "execution_count": null,
      "outputs": []
    },
    {
      "cell_type": "markdown",
      "source": [
        "# A more complex part of the data\n",
        "\n",
        "Sometime we can use a key to get a value that is actually a more complex thing, like a list.\n",
        "\n",
        "Check out this example of the author information."
      ],
      "metadata": {
        "id": "y10PL_AkKLAS"
      }
    },
    {
      "cell_type": "code",
      "source": [
        "item['author']"
      ],
      "metadata": {
        "id": "dWHodF0hKb6u"
      },
      "execution_count": null,
      "outputs": []
    },
    {
      "cell_type": "markdown",
      "source": [
        "\n",
        "# Two levels deep\n",
        "\n",
        "For example we can find the `family` name of the author with something like the following"
      ],
      "metadata": {
        "id": "30g3YqTKKfes"
      }
    },
    {
      "cell_type": "code",
      "source": [
        "#We are interested in the first item in this list\n",
        "#which is why we index at 0\n",
        "#if this piece had more than 1 author the list above\n",
        "#would be bigger\n",
        "author_info = item['author'][0]\n",
        "author_info['family']\n"
      ],
      "metadata": {
        "id": "pKy5sTZSKr0W"
      },
      "execution_count": null,
      "outputs": []
    },
    {
      "cell_type": "markdown",
      "source": [
        "**Q4** Print the ORCID for this author"
      ],
      "metadata": {
        "id": "YBrAnfa7LoPg"
      }
    },
    {
      "cell_type": "code",
      "source": [
        "author_info = item['author'][0]\n",
        "author_info['']"
      ],
      "metadata": {
        "id": "gqluGEyoLnN9"
      },
      "execution_count": null,
      "outputs": []
    },
    {
      "cell_type": "markdown",
      "source": [
        "**Q5** Print the list of references this article has. You just need to modify line 1."
      ],
      "metadata": {
        "id": "AoL5ph-FL1A8"
      }
    },
    {
      "cell_type": "code",
      "source": [
        "references = item['']\n",
        "\n",
        "for reference in references:\n",
        "  #Even more JSON objects!\n",
        "  print(reference)"
      ],
      "metadata": {
        "id": "USrjm1XGL7hj"
      },
      "execution_count": null,
      "outputs": []
    },
    {
      "cell_type": "markdown",
      "source": [
        "\n",
        "# Two steps\n",
        "\n",
        "We are now going to try a search in the CrossRef API, find some journal articles and identify the ORCIDs of the authors. We are then going to beef up this information with the ORCID API."
      ],
      "metadata": {
        "id": "PXXj5VXdMblf"
      }
    },
    {
      "cell_type": "markdown",
      "source": [
        "\n",
        "# Searching the API\n",
        "\n",
        "We'll search the API based on a search query that we specify in our next cell."
      ],
      "metadata": {
        "id": "oDgETy8hx3IQ"
      }
    },
    {
      "cell_type": "code",
      "source": [
        "search_string = \"ACRL Competencies and student success\""
      ],
      "metadata": {
        "id": "yMfQ--eowowr"
      },
      "execution_count": null,
      "outputs": []
    },
    {
      "cell_type": "code",
      "source": [
        "search_results = works.query(bibliographic=search_string)\n",
        "\n",
        "#We can see what actual URL of that we'll use by adding .url to our variable name\n",
        "print(search_results.url)"
      ],
      "metadata": {
        "id": "45usrW0Hxx40"
      },
      "execution_count": null,
      "outputs": []
    },
    {
      "cell_type": "markdown",
      "source": [
        "# Filtering & Select the results\n",
        "\n",
        "Now with our query variable put together we'll actually search the API and _filter_ our results to:\n",
        "\n",
        "- Only journal articles, line 7\n",
        "- One of the authors has an ORCID, line 8 (more on ORCIDs in a bit)\n",
        "\n",
        "and then we will _select_ only the fields we are interested in. Those are specified in the list on line 2."
      ],
      "metadata": {
        "id": "C7f0tEJcx7O6"
      }
    },
    {
      "cell_type": "code",
      "source": [
        "\n",
        "select_fields = ['DOI','score','references-count','title','author']\n",
        "number_of_results = 20\n",
        "\n",
        "results_for_df = []\n",
        "\n",
        "for result in search_results.filter(type=\"journal-article\", \\\n",
        "                                    has_orcid=\"1\", \\\n",
        "                                    ).select(select_fields).sample(number_of_results):\n",
        "\n",
        "                                    print(\"Retrieved: \\n\",result)\n",
        "\n",
        "                                    doi = result['DOI']\n",
        "                                    score = result['score']\n",
        "                                    references_count = result['references-count']\n",
        "                                    title = result['title'][0]\n",
        "\n",
        "                                    #We will 'try' to get the ORCID of the first listed author\n",
        "                                    #if that throws an error (except) we'll just leave it blank\n",
        "                                    #more details on this in a couple of cells\n",
        "                                    try:\n",
        "                                      orcid = result['author'][0]['ORCID']\n",
        "                                    except:\n",
        "                                      orcid = \"\"\n",
        "\n",
        "                                    results_for_df.append([doi,score,references_count,title,orcid])\n",
        "\n"
      ],
      "metadata": {
        "id": "pKVHreQvNJng"
      },
      "execution_count": null,
      "outputs": []
    },
    {
      "cell_type": "markdown",
      "source": [
        "\n",
        "# Data to Dataframe\n",
        "\n",
        "The next cell will turn our retrieved data in a dataframe and display it to the screen."
      ],
      "metadata": {
        "id": "w-gGeJizVNeK"
      }
    },
    {
      "cell_type": "code",
      "source": [
        "doi_data = pd.DataFrame(results_for_df,columns=select_fields)\n",
        "doi_data"
      ],
      "metadata": {
        "id": "rBJ8cDir43PX"
      },
      "execution_count": null,
      "outputs": []
    },
    {
      "cell_type": "markdown",
      "source": [
        "\n",
        "#Missing ORCIDs?\n",
        "\n",
        "Out code is very simple. We are only grabbing the ORCID of the first author that is listed in the item. That author might not have an ORCID. Our search only guaranteed at least one of the authors had and ORCID.\n",
        "\n",
        "To make life easier we are going to drop any lines in our dataframe that are missing orcids with the following cell"
      ],
      "metadata": {
        "id": "3tlgEWfS6Rr7"
      }
    },
    {
      "cell_type": "code",
      "source": [
        "doi_data = doi_data[doi_data['author']!=\"\"]\n",
        "doi_data"
      ],
      "metadata": {
        "id": "XOTVYN0j7F_P"
      },
      "execution_count": null,
      "outputs": []
    },
    {
      "cell_type": "markdown",
      "source": [
        "# ORCID Data\n",
        "\n",
        "You might of heard of ORCID before. It is basically a service that allows a researcher to put a unique serial number on works they publish.\n",
        "\n",
        "The good news is that ORCID has an API as well. But with this one you need to register ahead of time and get an API key and secret. These basically tell the API who are are when you are using it.\n",
        "\n",
        "This will require a new library to be installed."
      ],
      "metadata": {
        "id": "dNpAMCpkbott"
      }
    },
    {
      "cell_type": "code",
      "source": [
        "!pip install orcid\n",
        "\n",
        "import orcid\n",
        "\n",
        "print(\"Ready to proceed!\")"
      ],
      "metadata": {
        "id": "XZhyBLGs8QAy"
      },
      "execution_count": null,
      "outputs": []
    },
    {
      "cell_type": "markdown",
      "source": [
        "\n",
        "# API again, but with more information\n",
        "\n",
        "We need to register with the ORCID API before we use it. We need to get an API ID and Secret ([details here](https://info.orcid.org/what-is-orcid/services/public-api/)).\n",
        "\n",
        "When you generate them simply fill in these details in line 2 and 3. If you are having trouble with this please get in touch with me and I can help you with that process."
      ],
      "metadata": {
        "id": "51SUjgS8VoXa"
      }
    },
    {
      "cell_type": "code",
      "source": [
        "# Our Info from the ORCID site\n",
        "Client_ID = \"\"\n",
        "Client_Secret = \"\"\n",
        "\n",
        "#with that set we do our Python API work...\n",
        "orcid_api = api = orcid.PublicAPI(Client_ID, Client_Secret, sandbox=False)\n",
        "search_token = api.get_search_token_from_orcid()"
      ],
      "metadata": {
        "id": "eIXWGM_c8fKe"
      },
      "execution_count": null,
      "outputs": []
    },
    {
      "cell_type": "markdown",
      "source": [
        "\n",
        "# Grabbing Info\n",
        "\n",
        "We can now grab information about an ORCID. Run the next cell to see the [works](https://orcid.org/0000-0001-9229-8569#works) I've produced."
      ],
      "metadata": {
        "id": "fUrSnRMd9KDU"
      }
    },
    {
      "cell_type": "code",
      "source": [
        "orcid_results = orcid_api.read_record_public(\"0000-0001-9229-8569\",'works', search_token)\n",
        "orcid_results"
      ],
      "metadata": {
        "id": "5gnLhSDx9USe"
      },
      "execution_count": null,
      "outputs": []
    },
    {
      "cell_type": "markdown",
      "source": [
        "#JSON overload!\n",
        "\n",
        "That's a lot of JSON to look at. What we are going to focus on is just grabbing the number of _Works_ each author has published and use that value in our analysis."
      ],
      "metadata": {
        "id": "Wil4soshaYIH"
      }
    },
    {
      "cell_type": "code",
      "source": [
        "#The number of works I've published\n",
        "len(orcid_results['group'])"
      ],
      "metadata": {
        "id": "1vIenOyC-ZEt"
      },
      "execution_count": null,
      "outputs": []
    },
    {
      "cell_type": "markdown",
      "source": [
        "\n",
        "# Filling our dataset\n",
        "\n",
        "Now we are going to put all of this together!\n",
        "\n",
        "We are going to use the ORCID API to find out how many things each first author has published and then we are going to add this to our dataframe!\n",
        "\n",
        "Why? You'll see soon."
      ],
      "metadata": {
        "id": "gRwQBIRa_LF5"
      }
    },
    {
      "cell_type": "code",
      "source": [
        "authors = doi_data['author'].to_list()\n",
        "author_works_count = []\n",
        "\n",
        "for a in authors:\n",
        "  author_orcid = a.split('/')[-1]\n",
        "  print(\"Working on\",a)\n",
        "  orcid_results = orcid_api.read_record_public(author_orcid,'works', search_token)\n",
        "  count = len(orcid_results['group'])\n",
        "  print(\"Found \", count, \"works\")\n",
        "  author_works_count.append(count)"
      ],
      "metadata": {
        "id": "G1Rs-Lp4_bP2"
      },
      "execution_count": null,
      "outputs": []
    },
    {
      "cell_type": "markdown",
      "source": [
        "\n",
        "# Augmenting our Dataframe\n",
        "\n",
        "Now that we have this information, we'll add it as another column in our dataframe. This cell might throw a _warning_ but that is safe to ignore."
      ],
      "metadata": {
        "id": "g0nWsjmEat2B"
      }
    },
    {
      "cell_type": "code",
      "source": [
        "#Now we add this list as a column to our Dataframe\n",
        "doi_data['author_work_count'] = author_works_count\n",
        "doi_data"
      ],
      "metadata": {
        "id": "A6c9RuRrBCQS"
      },
      "execution_count": null,
      "outputs": []
    },
    {
      "cell_type": "markdown",
      "source": [
        "\n",
        "# The Grand Finale!\n",
        "\n",
        "We are going to now make a correlation matrix to see what relationship there is between score, number of references, and the number of works the author has completed!"
      ],
      "metadata": {
        "id": "1AzeCIGHBVcj"
      }
    },
    {
      "cell_type": "code",
      "source": [
        "#Lot going on here... Just run this cell and look at the final product to answer the next question\n",
        "corr = doi_data.corr(numeric_only=True)\n",
        "corr.style.background_gradient(cmap='coolwarm')\n",
        "mask = np.zeros_like(corr, dtype=bool)\n",
        "mask[np.triu_indices_from(mask)] = True\n",
        "corr[mask] = np.nan\n",
        "(corr\n",
        " .style\n",
        " .background_gradient(cmap='coolwarm', axis=None, vmin=-1, vmax=1)\n",
        " .highlight_null(color='#f1f1f1')  # Color NaNs grey\n",
        " )"
      ],
      "metadata": {
        "id": "rNU0bMGOBnER"
      },
      "execution_count": null,
      "outputs": []
    },
    {
      "cell_type": "markdown",
      "source": [
        "\n",
        "# Congrats on doing Data Science\n",
        "\n",
        "I'll let you decide what to think of the results from the correlation matrix.\n",
        "\n",
        "Remember\n",
        "- -1 is strong negative correlation, eg. One goes up the other always goes down.\n",
        "- 0 means no correspondence between the two variables\n",
        "- 1 a strong positive correlation, eg. One goes up the other always goes up too.\n"
      ],
      "metadata": {
        "id": "Q2Tgl7PkL1tO"
      }
    },
    {
      "cell_type": "markdown",
      "source": [
        "\n",
        "# Saving our new dataset!\n",
        "\n",
        "We've spent some time creating a nice dataset from a few different sources so let's take the time to save it as a CSV file. Like we did in the warm-up we'll connect to Google Drive and save our file in our usual folder.\n",
        "\n"
      ],
      "metadata": {
        "id": "J6NpDvM4TeWl"
      }
    },
    {
      "cell_type": "code",
      "source": [
        "#This will automatically download the file\n",
        "#please check your downloads directory for it.\n",
        "from google.colab import drive\n",
        "drive.mount('/content/gdrive')\n",
        "doi_data.to_csv('adv_week2_doi_dataset.csv',index=False)\n",
        "\n",
        "#This next line copies (cp) the csv file from our working folder\n",
        "#to the special folder we've created for our work\n",
        "!cp adv_week2_doi_dataset.csv /content/gdrive/MyDrive/LibraryJuicePython\n",
        "\n",
        "print(\"File copied to Drive!\")"
      ],
      "metadata": {
        "id": "uRuG5iP0Tu8G"
      },
      "execution_count": null,
      "outputs": []
    },
    {
      "cell_type": "markdown",
      "source": [
        "\n",
        "# Questions for this Workalong\n",
        "\n",
        "You'll notice there is a lack of questions in this workalong. I'm going to ask you now to head up to the section called **Searching the API** and change the search query to something you are interested in and re-run the subsequent cells to create a dataset on a different topic. Feel free to also adjust `number_of_results` to a number larger than 20 to make a bigger dataset (but don't go too big with it, certainly keep in under 50)\n",
        "\n",
        "Be sure to save the CSV file of the final dataset in Google Drive. We'll be using it again later."
      ],
      "metadata": {
        "id": "9164LhVATWyr"
      }
    }
  ]
}