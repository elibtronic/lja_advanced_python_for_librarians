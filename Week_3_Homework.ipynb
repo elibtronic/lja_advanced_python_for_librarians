{
  "nbformat": 4,
  "nbformat_minor": 0,
  "metadata": {
    "colab": {
      "provenance": [],
      "authorship_tag": "ABX9TyOVmcZUjgvytCtz30SLg6RX"
    },
    "kernelspec": {
      "name": "python3",
      "display_name": "Python 3"
    },
    "language_info": {
      "name": "python"
    }
  },
  "cells": [
    {
      "cell_type": "markdown",
      "source": [
        "# Week 3 Homework"
      ],
      "metadata": {
        "id": "Q0Zo96Ce9als"
      }
    },
    {
      "cell_type": "code",
      "execution_count": null,
      "metadata": {
        "id": "plqKSsgM9Ycb"
      },
      "outputs": [],
      "source": []
    },
    {
      "cell_type": "markdown",
      "source": [
        "\n",
        "## All Done!\n",
        "\n",
        "Congrats you are finished with this week's work. Don't forget to click the `Share` button above and enter `libraryjuicepresspython@gmail.com` so I can get a shared copy of your work."
      ],
      "metadata": {
        "id": "5HStpe789dJg"
      }
    }
  ]
}