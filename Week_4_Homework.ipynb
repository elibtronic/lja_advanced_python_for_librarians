{
  "nbformat": 4,
  "nbformat_minor": 0,
  "metadata": {
    "colab": {
      "provenance": [],
      "authorship_tag": "ABX9TyOGCbbthGK1z82ZA6SZp/Gf"
    },
    "kernelspec": {
      "name": "python3",
      "display_name": "Python 3"
    },
    "language_info": {
      "name": "python"
    }
  },
  "cells": [
    {
      "cell_type": "markdown",
      "source": [
        "# Week 4 Homework\n"
      ],
      "metadata": {
        "id": "50-t19Lu90X9"
      }
    },
    {
      "cell_type": "code",
      "execution_count": null,
      "metadata": {
        "id": "1TZumfR89ub9"
      },
      "outputs": [],
      "source": []
    },
    {
      "cell_type": "markdown",
      "source": [
        "\n",
        "## All Done!\n",
        "\n",
        "Congrats you are finished with this week's work. Don't forget to click the `Share` button above and enter `libraryjuicepresspython@gmail.com` so I can get a shared copy of your work."
      ],
      "metadata": {
        "id": "L5Bk6jVK92fI"
      }
    }
  ]
}