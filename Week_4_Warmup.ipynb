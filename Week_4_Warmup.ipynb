{
  "nbformat": 4,
  "nbformat_minor": 0,
  "metadata": {
    "colab": {
      "provenance": [],
      "authorship_tag": "ABX9TyPSm4WA+macj4R3sLqc2Yux"
    },
    "kernelspec": {
      "name": "python3",
      "display_name": "Python 3"
    },
    "language_info": {
      "name": "python"
    }
  },
  "cells": [
    {
      "cell_type": "markdown",
      "source": [
        "# Week 4 Warm up Activity\n",
        "\n",
        "We are going to focus on how we can share our notebooks in a Github Repository"
      ],
      "metadata": {
        "id": "5_0KHCTx9bm7"
      }
    }
  ]
}